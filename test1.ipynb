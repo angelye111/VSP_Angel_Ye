{
  "nbformat": 4,
  "nbformat_minor": 0,
  "metadata": {
    "colab": {
      "provenance": []
    },
    "kernelspec": {
      "name": "python3",
      "display_name": "Python 3"
    },
    "language_info": {
      "name": "python"
    }
  },
  "cells": [
    {
      "cell_type": "code",
      "execution_count": 1,
      "metadata": {
        "id": "dAuRDssgej43",
        "colab": {
          "base_uri": "https://localhost:8080/"
        },
        "outputId": "cdb7db50-1ae1-489f-b807-e8f4f0166817"
      },
      "outputs": [
        {
          "output_type": "execute_result",
          "data": {
            "text/plain": [
              "2"
            ]
          },
          "metadata": {},
          "execution_count": 1
        }
      ],
      "source": [
        "1+1\n"
      ]
    },
    {
      "cell_type": "code",
      "source": [
        "10+15"
      ],
      "metadata": {
        "colab": {
          "base_uri": "https://localhost:8080/"
        },
        "id": "B8kOeyUQgSdd",
        "outputId": "502d02dd-3cd7-4eff-bfac-4bef57607caa"
      },
      "execution_count": 2,
      "outputs": [
        {
          "output_type": "execute_result",
          "data": {
            "text/plain": [
              "25"
            ]
          },
          "metadata": {},
          "execution_count": 2
        }
      ]
    },
    {
      "cell_type": "markdown",
      "source": [
        "10+5"
      ],
      "metadata": {
        "id": "d_BhGWVfgkZH"
      }
    },
    {
      "cell_type": "markdown",
      "source": [
        "Here is my first opperation"
      ],
      "metadata": {
        "id": "ZHkx7Wo_gwIT"
      }
    },
    {
      "cell_type": "code",
      "source": [
        "5*5"
      ],
      "metadata": {
        "colab": {
          "base_uri": "https://localhost:8080/"
        },
        "id": "EeVTLuUwg2K2",
        "outputId": "47d9f871-1294-4a97-bb91-1cc42873cf99"
      },
      "execution_count": 3,
      "outputs": [
        {
          "output_type": "execute_result",
          "data": {
            "text/plain": [
              "25"
            ]
          },
          "metadata": {},
          "execution_count": 3
        }
      ]
    },
    {
      "cell_type": "code",
      "source": [],
      "metadata": {
        "id": "FwO6-jzYg309"
      },
      "execution_count": null,
      "outputs": []
    }
  ]
}