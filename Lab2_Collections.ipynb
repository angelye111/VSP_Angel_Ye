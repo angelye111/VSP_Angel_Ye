{
  "cells": [
    {
      "metadata": {
        "id": "53bab78b0d66b246"
      },
      "cell_type": "markdown",
      "source": [
        "# Lab Assignment # 2 - Collections"
      ],
      "id": "53bab78b0d66b246"
    },
    {
      "metadata": {
        "id": "c980b9461542bf99"
      },
      "cell_type": "markdown",
      "source": [
        "## Exercise 1 -- Comparison Operators\n",
        "Using `num_list` and list comprehensions, create three lists that correspond to the elements in num_list:\n",
        "1. `equal_list` whose elements should be true if the corresponding element in `num_list` is equal to 0 and false otherwise.\n",
        "2. `greater_list` whose elements should be true if the corresponding element in `num_list` is strictly greater than 0 and false otherwise.\n",
        "3. `lesser_list` whose elements should be true if the corresponding element in `num_list` is strictly less than 0 and false otherwise.\n",
        "4. Finally, using the three lists you generated, list comprehensions, and `zip()`, create `true_list` a list of length 7 where every element is true.\n",
        "\n",
        "**Hints for 4:**\n",
        "- `zip` can be used on more than two lists\n",
        "- use `or` within the list comprehension"
      ],
      "id": "c980b9461542bf99"
    },
    {
      "metadata": {
        "colab": {
          "base_uri": "https://localhost:8080/"
        },
        "id": "2e353f3a5c8caeb4",
        "outputId": "e88ea598-e57c-4eab-c5b6-18332dbdc7cc"
      },
      "cell_type": "code",
      "source": [
        "# Exercise 1 Code\n",
        "# Don't edit the line below\n",
        "num_list = [-5, -3, -1, 0, 1, 3, 5]\n",
        "\n",
        "# your code below here\n",
        "\n",
        "equal_list = [num_list[0]==0, num_list[1]==0, num_list[2]==0, num_list[3]==0, num_list[4]==0, num_list[5]==0, num_list[6]==0]\n",
        "# equal_list = [False, False, False, True, False, False, False]\n",
        "print(equal_list)\n",
        "\n",
        "greater_list =[num_list[0]>0, num_list[1]>0, num_list[2]>0, num_list[3]>0, num_list[4]>0, num_list[5]>0, num_list[6]>0]\n",
        "# greater_list = [False, False, False, False, True, True, True]\n",
        "print(greater_list)\n",
        "\n",
        "lesser_list = [num_list[0]<0, num_list[1]<0, num_list[2]<0, num_list[3]<0, num_list[4]<0, num_list[5]<0, num_list[6]<0]\n",
        "print(lesser_list)\n",
        "\n",
        "\n",
        "# true_list= num_list\n",
        "\n",
        "# true_list[0]= equal_list[0] or greater_list[0] or lesser_list [0]== True\n",
        "# true_list[1]= equal_list[1] or greater_list[1] or lesser_list [1]== True\n",
        "# true_list[2]= equal_list[2] or greater_list[2] or lesser_list [2]== True\n",
        "# ...\n",
        "# print(true_list)"
      ],
      "id": "2e353f3a5c8caeb4",
      "outputs": [
        {
          "output_type": "stream",
          "name": "stdout",
          "text": [
            "[False, False, False, True, False, False, False]\n",
            "[False, False, False, False, True, True, True]\n",
            "[True, True, True, False, False, False, False]\n"
          ]
        }
      ],
      "execution_count": 1
    },
    {
      "cell_type": "code",
      "source": [
        "num_list = [-5, -3, -1, 0, 1, 3, 5]\n",
        "x_range = range(len(num_list))\n",
        "equal_list = num_list\n",
        "for x in x_range:\n",
        "  if  num_list[x] == 0:\n",
        "    equal_list[x] = True\n",
        "  else:\n",
        "    equal_list[x] = False\n",
        "print(equal_list)\n",
        "\n",
        "num_list = [-5, -3, -1, 0, 1, 3, 5]\n",
        "greater_list = num_list\n",
        "for x in x_range:\n",
        "  if  num_list[x] > 0:\n",
        "    greater_list[x] = True\n",
        "  else:\n",
        "    greater_list[x] = False\n",
        "print(greater_list)\n",
        "\n",
        "num_list = [-5, -3, -1, 0, 1, 3, 5]\n",
        "lesser_list = num_list\n",
        "for x in x_range:\n",
        "  if  num_list[x] < 0:\n",
        "    lesser_list[x] = True\n",
        "  else:\n",
        "    lesser_list[x] = False\n",
        "print(lesser_list)"
      ],
      "metadata": {
        "colab": {
          "base_uri": "https://localhost:8080/"
        },
        "id": "5VWaMAARzCp3",
        "outputId": "5d2f7677-2cba-4eec-9ae8-086257af0df0"
      },
      "id": "5VWaMAARzCp3",
      "execution_count": 9,
      "outputs": [
        {
          "output_type": "stream",
          "name": "stdout",
          "text": [
            "[False, False, False, True, False, False, False]\n",
            "[False, False, False, False, True, True, True]\n",
            "[True, True, True, False, False, False, False]\n"
          ]
        }
      ]
    },
    {
      "cell_type": "code",
      "source": [
        "num_list = [-5, -3, -1, 0, 1, 3, 5]\n",
        "true_list = num_list\n",
        "y_range = range(len(num_list))\n",
        "for y in y_range:\n",
        "  if equal_list[y] or greater_list[y] or lesser_list [y] == True:\n",
        "    true_list[y] = True\n",
        "  else:\n",
        "    true_list[y] = False\n",
        "print(true_list)"
      ],
      "metadata": {
        "colab": {
          "base_uri": "https://localhost:8080/"
        },
        "id": "56ZUn9Do1vqY",
        "outputId": "442bdbf7-d0e5-4f88-cf43-b4adcc78af72"
      },
      "id": "56ZUn9Do1vqY",
      "execution_count": 3,
      "outputs": [
        {
          "output_type": "stream",
          "name": "stdout",
          "text": [
            "[True, True, True, True, True, True, True]\n"
          ]
        }
      ]
    },
    {
      "metadata": {
        "id": "af64d7ed5202ea4"
      },
      "cell_type": "markdown",
      "source": [
        "## Exercise 2 -- Lists\n",
        "Complete the following steps in the cells below:\n",
        "1. Add two different elements from `num_list` together so that the sum is 0. Print the result.\n",
        "2. Using `.append()`, add a 7 to the end of `num_list`\n",
        "3. Using `.insert()`, add a -7 to the start of `num_list`\n",
        "3. Change each element of `num_list` individually so that it it is equal to the list `[-4, -3, -2, -1, 0, 1, 2, 3, 4]`\n",
        "4. Use the list method `.reverse()` on `num_list` then print `num_list`. What does `.reverse()` do?  Did `.reverse()` change `num_list`?  Answer in the Markdown Cell.\n"
      ],
      "id": "af64d7ed5202ea4"
    },
    {
      "metadata": {
        "colab": {
          "base_uri": "https://localhost:8080/"
        },
        "id": "d7b462dd84d7b94a",
        "outputId": "874c92fa-2280-495a-8355-990b16ba8716"
      },
      "cell_type": "code",
      "source": [
        "# Exercise 2 Code\n",
        "num_list = [-5, -3, -1, 0, 1, 3, 5]\n",
        "\n",
        "# 1\n",
        "for a in range (0,6):\n",
        "    if a == 3:\n",
        "      break\n",
        "    else:\n",
        "      print(num_list[a], num_list[6-a])\n",
        "\n",
        "# 2\n",
        "num_list.append(7)\n",
        "print(num_list)\n",
        "\n",
        "# 3\n",
        "num_list.insert(0,-7)\n",
        "print(num_list)\n",
        "\n",
        "# 4\n",
        "# num_list[0] = -4\n",
        "# num_list[1] = -3\n",
        "# num_list[2] = -2\n",
        "...\n",
        "# print(num_list)\n",
        "\n",
        "i_range = range(len(num_list))\n",
        "x = -4\n",
        "for i in i_range:\n",
        "  num_list[i]= x\n",
        "  x = x + 1\n",
        "print (num_list)\n",
        "\n",
        "\n",
        "# 5\n",
        "num_list.reverse()\n",
        "print(num_list)\n"
      ],
      "id": "d7b462dd84d7b94a",
      "outputs": [
        {
          "output_type": "stream",
          "name": "stdout",
          "text": [
            "-5 5\n",
            "-3 3\n",
            "-1 1\n",
            "[-5, -3, -1, 0, 1, 3, 5, 7]\n",
            "[-7, -5, -3, -1, 0, 1, 3, 5, 7]\n",
            "[-4, -3, -2, -1, 0, 1, 2, 3, 4]\n",
            "[4, 3, 2, 1, 0, -1, -2, -3, -4]\n"
          ]
        }
      ],
      "execution_count": 8
    },
    {
      "metadata": {
        "id": "89dc2473a4e17740"
      },
      "cell_type": "markdown",
      "source": [
        "### Response to Exercise 2.5\n",
        "`.reverse()` changes the order of the numbers in the list in a revering way, but it didn't really change the content of  `num_list `because the elements remained the same. But this matters when we want to use index."
      ],
      "id": "89dc2473a4e17740"
    },
    {
      "metadata": {
        "id": "47726a8961d2a436"
      },
      "cell_type": "markdown",
      "source": [
        "## Exercise 3 -- Dictonaries\n",
        "First, define a dictonary called `my_dict`. It should contain four keys:\n",
        "- \"name\"\n",
        "- \"major\"\n",
        "- \"favorite artist\"\n",
        "- \"favorite food\"\n",
        "\n",
        "Fill out the values to match your name, major, etc.\n",
        "\n",
        "Using `my_dict` and string formatting, print a sentence in the cell below that says who you are, what your major is, your favorite artist, and your favorite food."
      ],
      "id": "47726a8961d2a436"
    },
    {
      "metadata": {
        "colab": {
          "base_uri": "https://localhost:8080/"
        },
        "id": "e61e388fab247657",
        "outputId": "d73256cc-77bd-434d-962b-a0fccc499fa7"
      },
      "cell_type": "code",
      "source": [
        "\n",
        "# Exercise 3 Code\n",
        "key_list =[\"name\", \"major\", \"favorite artist\", \"favorite food\" ]\n",
        "value_list= [\"Angel\", \"law\", \"Van Gogh\", \"sushi\"]\n",
        "my_dict = dict(zip(key_list, value_list))\n",
        "print(my_dict)\n",
        "\n",
        "print(f\"My name is {value_list[0]}, my major is {value_list[1]} , my favorite artist is {value_list[2]} and my favorite food is {value_list[3]}\")\n"
      ],
      "id": "e61e388fab247657",
      "outputs": [
        {
          "output_type": "stream",
          "name": "stdout",
          "text": [
            "{'name': 'Angel', 'major': 'law', 'favorite artist': 'Van Gogh', 'favorite food': 'sushi'}\n",
            "My name is Angel, my major is law , my favorite artist is Van Gogh and my favorite food is sushi\n"
          ]
        }
      ],
      "execution_count": null
    },
    {
      "metadata": {
        "id": "8476f31e2c9c2da7"
      },
      "cell_type": "markdown",
      "source": [
        "## Exercise 4 -- Type Conversion\n",
        "We can use functions like `int()`, `float()`, and `str()` to convert from one type into another. Use them to complete the following tasks:\n",
        "1. Define a variable called `revenue` that is equal to price times quanitity. You can only use the strings that are already defined, the conversion functions above, and the `*` operator.\n",
        "2. Use `str()` to convert `revenue` into a string with a dollar sign in fron. Call this new variable `revenue_string` and print it.\n",
        "\n",
        "\n",
        "**Hint:** How can you remove the dollar sign before conversion?\n"
      ],
      "id": "8476f31e2c9c2da7"
    },
    {
      "metadata": {
        "colab": {
          "base_uri": "https://localhost:8080/"
        },
        "id": "c0fe320082e8d0dd",
        "outputId": "3831b784-16ab-4e47-e0e4-e9a04c19574a"
      },
      "cell_type": "code",
      "source": [
        "# Exercise 4 Code\n",
        "price_string  = \"$7.50\" # don't edit\n",
        "quantity_string = \"10\" # don't edit\n",
        "\n",
        "# price_string_1 = price_string.replace(\"$\", \"\")\n",
        "price_string_1 = price_string[1:]\n",
        "print(price_string_1)\n",
        "\n",
        "price = float(price_string_1)\n",
        "quantity = int(quantity_string)\n",
        "\n",
        "revenue = price * quantity\n",
        "revenue_string = \"$\" + str(revenue)\n",
        "\n",
        "print(revenue_string)\n",
        "\n",
        "# your code here"
      ],
      "id": "c0fe320082e8d0dd",
      "outputs": [
        {
          "output_type": "stream",
          "name": "stdout",
          "text": [
            "7.50\n",
            "$75.0\n"
          ]
        }
      ],
      "execution_count": 6
    },
    {
      "metadata": {
        "id": "9571d4b7f5224303"
      },
      "cell_type": "markdown",
      "source": [
        "## Exercise 5 -- Modules and Very Basic Plotting\n",
        "Complete the following steps in the cells below:\n",
        "1. Import the `math` module and give it an alias of `mt`.\n",
        "2. Import the `matplotlib.pyplot` module and give it an alias of `plt`.\n",
        "3. Create a variable named `num_range` and set it equal to a range of numbers from 0 to 1000 (including 1000).\n",
        "4. Using `num_range` and a list comprehension, create a list called `sine_list` that is equal to `sin((pi/100) * x)` for every `x` in the range `num_range`. (**Hint:** sin and pi are objects from the math library.)\n",
        "5. Finally, using `plt`, `num_range`, and `sine_list`, generate a line plot."
      ],
      "id": "9571d4b7f5224303"
    },
    {
      "metadata": {
        "id": "d8495aeebf9b755f",
        "colab": {
          "base_uri": "https://localhost:8080/",
          "height": 448
        },
        "outputId": "bb4e3dea-102c-46ae-e27b-c9810f648f88"
      },
      "cell_type": "code",
      "source": [
        "# Exercise 5 Code\n",
        "import math as mt\n",
        "import matplotlib.pyplot as plt\n",
        "\n",
        "num_range = range(0,1001)\n",
        "sine_list = []\n",
        "for x in num_range:\n",
        "  sine_list.append(mt.sin((mt.pi/100) * x))\n",
        "  # print(sine_list)\n",
        "\n",
        "plt.plot(num_range, sine_list, linestyle=\"-\", color =\"red\")\n"
      ],
      "id": "d8495aeebf9b755f",
      "outputs": [
        {
          "output_type": "execute_result",
          "data": {
            "text/plain": [
              "[<matplotlib.lines.Line2D at 0x78569d17ac50>]"
            ]
          },
          "metadata": {},
          "execution_count": 35
        },
        {
          "output_type": "display_data",
          "data": {
            "text/plain": [
              "<Figure size 640x480 with 1 Axes>"
            ],
            "image/png": "[encoded data removed]"
          },
          "metadata": {}
        }
      ],
      "execution_count": 35
    },
    {
      "cell_type": "code",
      "source": [],
      "metadata": {
        "id": "OnM_JY8HRpyM"
      },
      "id": "OnM_JY8HRpyM",
      "execution_count": null,
      "outputs": []
    }
  ],
  "metadata": {
    "kernelspec": {
      "display_name": "Python 3",
      "language": "python",
      "name": "python3"
    },
    "language_info": {
      "codemirror_mode": {
        "name": "ipython",
        "version": 2
      },
      "file_extension": ".py",
      "mimetype": "text/x-python",
      "name": "python",
      "nbconvert_exporter": "python",
      "pygments_lexer": "ipython2",
      "version": "2.7.6"
    },
    "colab": {
      "provenance": []
    }
  },
  "nbformat": 4,
  "nbformat_minor": 5
}