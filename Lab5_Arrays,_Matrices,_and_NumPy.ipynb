{
  "cells": [
    {
      "cell_type": "markdown",
      "id": "aa4602c3",
      "metadata": {
        "id": "aa4602c3"
      },
      "source": [
        "# Lab Assignment 4 -- Arrays, Matrices, and NumPy\n",
        "In this lab, you will complete a series of exercises related to the lecture material on arrays, matrices, and NumPy, You will have to do some calculations on a piece of paper or tablet -- submit either pictures or a PDF of your work with this Notebook."
      ]
    },
    {
      "cell_type": "markdown",
      "id": "36d604de",
      "metadata": {
        "id": "36d604de"
      },
      "source": [
        "Throughout this assignment, we will refer to the following arrays.\n",
        "$$\n",
        "A = \\left[\\begin{array}{ccc}\n",
        "1 & 5 & 3\\\\ 5 & -4 & 2\\\\ 3 & 2 & 1\n",
        "\\end{array}\\right], B = \\left[\\begin{array}{cccc}\n",
        "0 & 1 & 3 & 9\\\\ 6 & -1 & -2 & -9\\\\ 2 & 5 & 1 &2\n",
        "\\end{array}\\right], C = \\left[\\begin{array}{ccc}\n",
        "1 & 5 & -13\\\\ 7 & -7 & 7\\\\ 2 & -3 & 1 \\\\ 0 & 7 & -6\n",
        "\\end{array}\\right] \\\\ d = \\left[\\begin{array}{c}\n",
        "1 \\\\ -3\\\\ 2\n",
        "\\end{array}\\right], f= \\left[\\begin{array}{c}\n",
        "-2 \\\\ 4\\\\ 1\n",
        "\\end{array}\\right],g = \\left[\\begin{array}{c}\n",
        "-1 \\\\ 10 \\\\ -1\\\\ 5\n",
        "\\end{array}\\right]\n",
        "$$"
      ]
    },
    {
      "cell_type": "markdown",
      "id": "6814b00c",
      "metadata": {
        "id": "6814b00c"
      },
      "source": [
        "## Exercise 1 -- Defining Arrays\n",
        "Import `numpy` with the alias np and define the matrices above manually in the cell below. Make sure you define these carefully as subsequent responses will be incorrect otherwise.\n",
        "\n",
        "<span style=\"color: red;\"> **Be Careful!**</span>  After defining these objects, don't reassign these variable names to a different object for the rest of the assignment."
      ]
    },
    {
      "cell_type": "code",
      "execution_count": 16,
      "id": "1e9acd73",
      "metadata": {
        "id": "1e9acd73"
      },
      "outputs": [],
      "source": [
        "# Exercise 1 code\n",
        "import numpy as np\n",
        "A = np.array ([[1, 5, 3],\n",
        "              [5, -4, 2],\n",
        "              [3, 2, 1]])\n",
        "B = np.array([[0, 1, 3, 9],\n",
        "             [6 ,-1, -2, -9],\n",
        "             [2, 5, 1, 2]])\n",
        "C = np.array([[1, 5, -13],\n",
        "             [7, -7, 7],\n",
        "             [2, -3, 1],\n",
        "             [0, 7, -6]])\n",
        "d = np.array([1, -3, 2])\n",
        "f = np.array([-2, 4, 1])\n",
        "g = np.array([-1, 10, -1, 5])\n"
      ]
    },
    {
      "cell_type": "markdown",
      "id": "445dc79e",
      "metadata": {
        "id": "445dc79e"
      },
      "source": [
        "##  Exercise 2 -- Array Addition\n",
        "Is the operation $d + f$ possible? What about $d + g$? Why or why not? Answer in the markdown cell below. For each possible operation, print its result in the code cell below.\n"
      ]
    },
    {
      "cell_type": "code",
      "execution_count": 2,
      "id": "36bb39c3",
      "metadata": {
        "colab": {
          "base_uri": "https://localhost:8080/",
          "height": 198
        },
        "id": "36bb39c3",
        "outputId": "c50ba9c3-349f-4a09-e6e2-c5583f0966ae"
      },
      "outputs": [
        {
          "output_type": "stream",
          "name": "stdout",
          "text": [
            "[-1  1  3]\n"
          ]
        },
        {
          "output_type": "error",
          "ename": "ValueError",
          "evalue": "operands could not be broadcast together with shapes (3,) (4,) ",
          "traceback": [
            "\u001b[0;31m---------------------------------------------------------------------------\u001b[0m",
            "\u001b[0;31mValueError\u001b[0m                                Traceback (most recent call last)",
            "\u001b[0;32m<ipython-input-2-d8367b4187bd>\u001b[0m in \u001b[0;36m<cell line: 3>\u001b[0;34m()\u001b[0m\n\u001b[1;32m      1\u001b[0m \u001b[0;31m# Exercise 2 code\u001b[0m\u001b[0;34m\u001b[0m\u001b[0;34m\u001b[0m\u001b[0m\n\u001b[1;32m      2\u001b[0m \u001b[0mprint\u001b[0m\u001b[0;34m(\u001b[0m\u001b[0md\u001b[0m \u001b[0;34m+\u001b[0m \u001b[0mf\u001b[0m\u001b[0;34m)\u001b[0m\u001b[0;34m\u001b[0m\u001b[0;34m\u001b[0m\u001b[0m\n\u001b[0;32m----> 3\u001b[0;31m \u001b[0mprint\u001b[0m\u001b[0;34m(\u001b[0m\u001b[0md\u001b[0m \u001b[0;34m+\u001b[0m \u001b[0mg\u001b[0m\u001b[0;34m)\u001b[0m\u001b[0;34m\u001b[0m\u001b[0;34m\u001b[0m\u001b[0m\n\u001b[0m",
            "\u001b[0;31mValueError\u001b[0m: operands could not be broadcast together with shapes (3,) (4,) "
          ]
        }
      ],
      "source": [
        "# Exercise 2 code\n",
        "print(d + f)\n",
        "print(d + g)"
      ]
    },
    {
      "cell_type": "markdown",
      "id": "8dc481c1",
      "metadata": {
        "id": "8dc481c1"
      },
      "source": [
        "### Response to Exercise 2\n",
        "The operation ` d+f `is possible because they have the same number of rows. But `d+g` is not possible because d has three rows while g has four rows, meaning incompatible shapes."
      ]
    },
    {
      "cell_type": "markdown",
      "id": "7cffe2ea",
      "metadata": {
        "id": "7cffe2ea"
      },
      "source": [
        "## Exercise 3 -- Dot Product\n",
        "On a piece of paper or tablet, **legibly** calculate the dot product of $d$ and $f$. Label your response as \"Solution to Exercise 3\". Show your work as we did in lecture. Check your solution by calling `np.dot()` in the cell below."
      ]
    },
    {
      "cell_type": "code",
      "execution_count": 19,
      "id": "f8328d5e",
      "metadata": {
        "colab": {
          "base_uri": "https://localhost:8080/"
        },
        "id": "f8328d5e",
        "outputId": "76f86ea4-f629-486b-8a97-81832ca39d46"
      },
      "outputs": [
        {
          "output_type": "stream",
          "name": "stdout",
          "text": [
            "-12\n"
          ]
        },
        {
          "output_type": "execute_result",
          "data": {
            "text/plain": [
              "True"
            ]
          },
          "metadata": {},
          "execution_count": 19
        }
      ],
      "source": [
        "# Exercise 3 code\n",
        "Solution_to_Exercise_3 = 1*-2 + -3*4 + 2*1  # = -12\n",
        "print(np.dot(d,f))\n",
        "Solution_to_Exercise_3  == np.dot(d,f)"
      ]
    },
    {
      "cell_type": "markdown",
      "id": "1499a45d",
      "metadata": {
        "id": "1499a45d"
      },
      "source": [
        "## Exercise 4 -- Vector Slices\n",
        "Using only `g` and slice indexing, assign `[10 -1]` to `tiny_array`. What is the type of `tiny_array`? Why is this desirable behavior? Answer in Markdown."
      ]
    },
    {
      "cell_type": "code",
      "execution_count": 18,
      "id": "edaadcc6",
      "metadata": {
        "colab": {
          "base_uri": "https://localhost:8080/"
        },
        "id": "edaadcc6",
        "outputId": "515b36c2-d2a1-4518-b54d-896849b7a954"
      },
      "outputs": [
        {
          "output_type": "stream",
          "name": "stdout",
          "text": [
            "[10 -1]\n"
          ]
        },
        {
          "output_type": "execute_result",
          "data": {
            "text/plain": [
              "numpy.ndarray"
            ]
          },
          "metadata": {},
          "execution_count": 18
        }
      ],
      "source": [
        "# Exercise 4 code\n",
        "tiny_array = np.array(g[0:3])\n",
        "print(tiny_array)\n",
        "type(tiny_array)"
      ]
    },
    {
      "cell_type": "markdown",
      "id": "8e87d5fa",
      "metadata": {
        "id": "8e87d5fa"
      },
      "source": [
        "### Response to Exercise 4\n",
        "The type is numpy.ndarray because we use `np.array` when we define it otherwise it will become a list.\n"
      ]
    },
    {
      "cell_type": "markdown",
      "id": "bce70be0",
      "metadata": {
        "id": "bce70be0"
      },
      "source": [
        "## Exercise 5 -- Matrix Transposes and Addition\n",
        "On a piece of paper or tablet, **legibly** calculate the sum of $B$ and the transpose of $C$. Label your response as \"Solution to Exercise 5\". Show your work as we did in lecture.\n",
        "\n",
        "Check your solution in the cell below. Could we add $B$ and $C$? Answer in the Markdown cell below."
      ]
    },
    {
      "cell_type": "code",
      "execution_count": 17,
      "id": "5459f3a6",
      "metadata": {
        "scrolled": true,
        "id": "5459f3a6",
        "colab": {
          "base_uri": "https://localhost:8080/"
        },
        "outputId": "dca00ae0-ad83-486b-c1f4-b3be88c38721"
      },
      "outputs": [
        {
          "output_type": "stream",
          "name": "stdout",
          "text": [
            "[[ 9 12  4  2]\n",
            " [13 -2 -1  9]\n",
            " [-5 12  3 -4]]\n"
          ]
        }
      ],
      "source": [
        "# Exercise 5 code\n",
        "\n",
        "Solution_to_Exercise_5 = sum(B, C.T)\n",
        "print(Solution_to_Exercise_5)\n"
      ]
    },
    {
      "cell_type": "code",
      "source": [
        "C.T"
      ],
      "metadata": {
        "colab": {
          "base_uri": "https://localhost:8080/"
        },
        "id": "zBGCI9sx_UE9",
        "outputId": "3a82b3f6-a46d-4b25-c2fc-b26670615c18"
      },
      "id": "zBGCI9sx_UE9",
      "execution_count": 9,
      "outputs": [
        {
          "output_type": "execute_result",
          "data": {
            "text/plain": [
              "array([[  1,   7,   2,   0],\n",
              "       [  5,  -7,  -3,   7],\n",
              "       [-13,   7,   1,  -6]])"
            ]
          },
          "metadata": {},
          "execution_count": 9
        }
      ]
    },
    {
      "cell_type": "code",
      "source": [
        "B + C"
      ],
      "metadata": {
        "colab": {
          "base_uri": "https://localhost:8080/",
          "height": 144
        },
        "id": "X5Q3IzNHz-kv",
        "outputId": "e4de4453-5adc-40b0-95ac-c5e43ba067e1"
      },
      "id": "X5Q3IzNHz-kv",
      "execution_count": 23,
      "outputs": [
        {
          "output_type": "error",
          "ename": "ValueError",
          "evalue": "operands could not be broadcast together with shapes (3,4) (4,3) ",
          "traceback": [
            "\u001b[0;31m---------------------------------------------------------------------------\u001b[0m",
            "\u001b[0;31mValueError\u001b[0m                                Traceback (most recent call last)",
            "\u001b[0;32m<ipython-input-23-a78e4646c3fd>\u001b[0m in \u001b[0;36m<cell line: 1>\u001b[0;34m()\u001b[0m\n\u001b[0;32m----> 1\u001b[0;31m \u001b[0mB\u001b[0m \u001b[0;34m+\u001b[0m \u001b[0mC\u001b[0m\u001b[0;34m\u001b[0m\u001b[0;34m\u001b[0m\u001b[0m\n\u001b[0m",
            "\u001b[0;31mValueError\u001b[0m: operands could not be broadcast together with shapes (3,4) (4,3) "
          ]
        }
      ]
    },
    {
      "cell_type": "markdown",
      "id": "73d9ee90",
      "metadata": {
        "id": "73d9ee90"
      },
      "source": [
        "### Response to Exercise 5\n",
        "No, because shape of B is (3,4) while shape of C is (4,3)."
      ]
    },
    {
      "cell_type": "markdown",
      "id": "9143d0da",
      "metadata": {
        "id": "9143d0da"
      },
      "source": [
        "## Exercise 6 -- Matrix Indexing\n",
        "Complete the following steps:\n",
        "- Define a variable `tiny_mat` and set it equal to `np.array([[-7, 7], [-3, 1]])`.\n",
        "- Using only `C` and slice-indexing, recreate `tiny_mat` and assign it to `tiny_mat_clone`.\n",
        "- Define a funcion called `compare_arrs` that takes two arrays and prints \"Arrays are the same!\" if the arrays are the same and \"Arrays are different!\" if the arrays are different.  \n",
        "- Call `compare_arrs` on `tiny_mat` and `tiny_mat_clone`.\n",
        "- Call `compare_arrs` on `np.array([1, 3, 4])` and `tiny_mat_clone`.\n",
        "\n",
        "\n",
        "**Hint:** Use `np.array_equal()` within `compare_arrs`."
      ]
    },
    {
      "cell_type": "code",
      "execution_count": 63,
      "id": "ccf0fe9b",
      "metadata": {
        "id": "ccf0fe9b",
        "colab": {
          "base_uri": "https://localhost:8080/"
        },
        "outputId": "6f2a33fe-cb15-4353-ef0c-59b2203a7dac"
      },
      "outputs": [
        {
          "output_type": "execute_result",
          "data": {
            "text/plain": [
              "array([[-7,  7],\n",
              "       [-3,  1]])"
            ]
          },
          "metadata": {},
          "execution_count": 63
        }
      ],
      "source": [
        "# Exercise 6 -- Define Matrices\n",
        "tiny_mat = np.array([[-7, 7],\n",
        "                     [-3, 1]])\n",
        "\n",
        "tiny_mat_clone[0,:]= C[1,1:3]\n",
        "tiny_mat_clone[1,:]= C[2,1:3]\n",
        "tiny_mat_clone\n"
      ]
    },
    {
      "cell_type": "code",
      "execution_count": 71,
      "id": "5340e4cb",
      "metadata": {
        "id": "5340e4cb"
      },
      "outputs": [],
      "source": [
        "# Exercise 6 -- Define Function\n",
        "def compare_arrs(array1,array2):\n",
        "  if np.array_equal(array1,array2) == True :\n",
        "    print(\"Arrays are the same!\" )\n",
        "  else:\n",
        "    print(\"Arrays are different!\" )"
      ]
    },
    {
      "cell_type": "code",
      "execution_count": 72,
      "id": "3e32c3ad",
      "metadata": {
        "scrolled": true,
        "id": "3e32c3ad",
        "colab": {
          "base_uri": "https://localhost:8080/"
        },
        "outputId": "009c23dc-258c-4084-dc87-ec8317b9396b"
      },
      "outputs": [
        {
          "output_type": "stream",
          "name": "stdout",
          "text": [
            "Arrays are the same!\n",
            "Arrays are different!\n"
          ]
        }
      ],
      "source": [
        "# Exercise 6 -- Call compare_arrs\n",
        "compare_arrs(tiny_mat, tiny_mat_clone)\n",
        "\n",
        "compare_arrs(np.array([1, 3, 4]), tiny_mat_clone)"
      ]
    },
    {
      "cell_type": "markdown",
      "id": "fe3bbe39",
      "metadata": {
        "id": "fe3bbe39"
      },
      "source": [
        "## Exercise 7 -- Symmetric Matrices\n",
        "A **symmetric matrix** is a matrix that is equal to its transpose. Using your function `compare_arrs`, test whether `A`, `B`, and `C` are symmetric. What does it say about the symmetry of a matrix when \"Arrays are the same!\" is printed? Answer in the Markdown cell below."
      ]
    },
    {
      "cell_type": "code",
      "execution_count": 73,
      "id": "c6b6d501",
      "metadata": {
        "scrolled": true,
        "id": "c6b6d501",
        "colab": {
          "base_uri": "https://localhost:8080/"
        },
        "outputId": "5fec0c52-7a19-4e80-f9fa-0e95d9e43534"
      },
      "outputs": [
        {
          "output_type": "stream",
          "name": "stdout",
          "text": [
            "Arrays are the same!\n",
            "Arrays are different!\n",
            "Arrays are different!\n"
          ]
        }
      ],
      "source": [
        "# Exercise 7 code\n",
        "compare_arrs(A, A.T)\n",
        "compare_arrs(B, B.T)\n",
        "compare_arrs(C, C.T)"
      ]
    },
    {
      "cell_type": "markdown",
      "id": "9a11d543",
      "metadata": {
        "id": "9a11d543"
      },
      "source": [
        "### Response to Exercise 7\n",
        "Matrix A is symmetric. When it prints \"Arrays are the same!\", it means the symmetry of a matrix."
      ]
    },
    {
      "cell_type": "markdown",
      "id": "e1b4c19e",
      "metadata": {
        "id": "e1b4c19e"
      },
      "source": [
        "## Exercise 8 -- Matrix Concatenation\n",
        "We can glue or **concatenate** two arrays together using `np.vstack()` and `np.hstack()`. Each function takes a list of arrays as an argument. The former concatenates two arrays vertically (think of stacking rectangles on top of eachother) while the latter concatenates them horizontally (think of stacking rectangles side-by-side).\n",
        "\n",
        "Answer the following questions below:\n",
        "- If we call `np.vstack([A, B])` and it executes successfully, what must be true about the size of `A `and `B`?\n",
        "- If we call `np.hstack([A, B])` and it executes successfully, what must be true about the size of `A `and `B`?\n",
        "\n",
        "**Hint:** Try concatenating two arrays until you get an error. What does the error say?"
      ]
    },
    {
      "cell_type": "code",
      "execution_count": 4,
      "id": "30265351",
      "metadata": {
        "id": "30265351",
        "colab": {
          "base_uri": "https://localhost:8080/",
          "height": 358
        },
        "outputId": "df219295-847e-43b6-b62b-e7f26936731e"
      },
      "outputs": [
        {
          "output_type": "error",
          "ename": "ValueError",
          "evalue": "all the input array dimensions except for the concatenation axis must match exactly, but along dimension 1, the array at index 0 has size 3 and the array at index 1 has size 4",
          "traceback": [
            "\u001b[0;31m---------------------------------------------------------------------------\u001b[0m",
            "\u001b[0;31mValueError\u001b[0m                                Traceback (most recent call last)",
            "\u001b[0;32m<ipython-input-4-9a27430ccecc>\u001b[0m in \u001b[0;36m<cell line: 2>\u001b[0;34m()\u001b[0m\n\u001b[1;32m      1\u001b[0m \u001b[0;31m# Exercise 8 -- Test vstack and hstack here as needed\u001b[0m\u001b[0;34m\u001b[0m\u001b[0;34m\u001b[0m\u001b[0m\n\u001b[0;32m----> 2\u001b[0;31m \u001b[0mnp\u001b[0m\u001b[0;34m.\u001b[0m\u001b[0mvstack\u001b[0m\u001b[0;34m(\u001b[0m\u001b[0;34m[\u001b[0m\u001b[0mA\u001b[0m\u001b[0;34m,\u001b[0m \u001b[0mB\u001b[0m\u001b[0;34m]\u001b[0m\u001b[0;34m)\u001b[0m\u001b[0;34m\u001b[0m\u001b[0;34m\u001b[0m\u001b[0m\n\u001b[0m\u001b[1;32m      3\u001b[0m \u001b[0mnp\u001b[0m\u001b[0;34m.\u001b[0m\u001b[0mhstack\u001b[0m\u001b[0;34m(\u001b[0m\u001b[0;34m[\u001b[0m\u001b[0mA\u001b[0m\u001b[0;34m,\u001b[0m \u001b[0mB\u001b[0m\u001b[0;34m]\u001b[0m\u001b[0;34m)\u001b[0m\u001b[0;34m\u001b[0m\u001b[0;34m\u001b[0m\u001b[0m\n",
            "\u001b[0;32m/usr/local/lib/python3.10/dist-packages/numpy/core/shape_base.py\u001b[0m in \u001b[0;36mvstack\u001b[0;34m(tup, dtype, casting)\u001b[0m\n\u001b[1;32m    287\u001b[0m     \u001b[0;32mif\u001b[0m \u001b[0;32mnot\u001b[0m \u001b[0misinstance\u001b[0m\u001b[0;34m(\u001b[0m\u001b[0marrs\u001b[0m\u001b[0;34m,\u001b[0m \u001b[0mlist\u001b[0m\u001b[0;34m)\u001b[0m\u001b[0;34m:\u001b[0m\u001b[0;34m\u001b[0m\u001b[0;34m\u001b[0m\u001b[0m\n\u001b[1;32m    288\u001b[0m         \u001b[0marrs\u001b[0m \u001b[0;34m=\u001b[0m \u001b[0;34m[\u001b[0m\u001b[0marrs\u001b[0m\u001b[0;34m]\u001b[0m\u001b[0;34m\u001b[0m\u001b[0;34m\u001b[0m\u001b[0m\n\u001b[0;32m--> 289\u001b[0;31m     \u001b[0;32mreturn\u001b[0m \u001b[0m_nx\u001b[0m\u001b[0;34m.\u001b[0m\u001b[0mconcatenate\u001b[0m\u001b[0;34m(\u001b[0m\u001b[0marrs\u001b[0m\u001b[0;34m,\u001b[0m \u001b[0;36m0\u001b[0m\u001b[0;34m,\u001b[0m \u001b[0mdtype\u001b[0m\u001b[0;34m=\u001b[0m\u001b[0mdtype\u001b[0m\u001b[0;34m,\u001b[0m \u001b[0mcasting\u001b[0m\u001b[0;34m=\u001b[0m\u001b[0mcasting\u001b[0m\u001b[0;34m)\u001b[0m\u001b[0;34m\u001b[0m\u001b[0;34m\u001b[0m\u001b[0m\n\u001b[0m\u001b[1;32m    290\u001b[0m \u001b[0;34m\u001b[0m\u001b[0m\n\u001b[1;32m    291\u001b[0m \u001b[0;34m\u001b[0m\u001b[0m\n",
            "\u001b[0;31mValueError\u001b[0m: all the input array dimensions except for the concatenation axis must match exactly, but along dimension 1, the array at index 0 has size 3 and the array at index 1 has size 4"
          ]
        }
      ],
      "source": [
        "# Exercise 8 -- Test vstack and hstack here as needed\n",
        "np.vstack([A, B])\n"
      ]
    },
    {
      "cell_type": "code",
      "source": [
        "np.hstack([A, B])"
      ],
      "metadata": {
        "colab": {
          "base_uri": "https://localhost:8080/"
        },
        "id": "M2FVPCf--MLJ",
        "outputId": "193c5c09-73a3-4e9e-bf06-8d6555689ab7"
      },
      "id": "M2FVPCf--MLJ",
      "execution_count": 5,
      "outputs": [
        {
          "output_type": "execute_result",
          "data": {
            "text/plain": [
              "array([[ 1,  5,  3,  0,  1,  3,  9],\n",
              "       [ 5, -4,  2,  6, -1, -2, -9],\n",
              "       [ 3,  2,  1,  2,  5,  1,  2]])"
            ]
          },
          "metadata": {},
          "execution_count": 5
        }
      ]
    },
    {
      "cell_type": "markdown",
      "id": "08e35010",
      "metadata": {
        "id": "08e35010"
      },
      "source": [
        "### Response to Exercise 8\n",
        "The error says that all the input array dimensions except for the concatenation axis must match exactly, but along dimension 1, the array at index 0 has size 3 and the array at index 1 has size 4.The two matrixes must have the same number of columns.\n"
      ]
    },
    {
      "cell_type": "markdown",
      "id": "76713bcd",
      "metadata": {
        "id": "76713bcd"
      },
      "source": [
        "## Exercise 9 -- Element-Wise Multiplication\n",
        "On a piece of paper or tablet, **legibly** calculate the element-wise multiplication of $B$ and the transpose of $C$. Label your response as \"Solution to Exercise 9\". Show your work as we did in lecture.\n",
        "\n",
        "Check your solution in the cell below."
      ]
    },
    {
      "cell_type": "code",
      "execution_count": 26,
      "id": "a7148441",
      "metadata": {
        "id": "a7148441",
        "colab": {
          "base_uri": "https://localhost:8080/"
        },
        "outputId": "c1037460-033f-4d47-aac1-0b0241d2ec1b"
      },
      "outputs": [
        {
          "output_type": "stream",
          "name": "stdout",
          "text": [
            "[[  0   7   6   0]\n",
            " [ 30   7   6 -63]\n",
            " [-26  35   1 -12]]\n",
            "[[ True  True  True  True]\n",
            " [ True  True  True  True]\n",
            " [ True  True  True  True]]\n"
          ]
        }
      ],
      "source": [
        "# Exercise 9 Code\n",
        "\n",
        "Solution_to_Exercise_9 = [[ 0,  7, 6, 0],\n",
        "                          [ 30, 7, 6, -63],\n",
        "                          [-26, 35, 1, -12]]\n",
        "print(B * C.T)\n",
        "\n",
        "print(Solution_to_Exercise_9 == B * C.T)"
      ]
    },
    {
      "cell_type": "markdown",
      "id": "74af3830",
      "metadata": {
        "id": "74af3830"
      },
      "source": [
        "## Exercise 10 -- Matrix Multiplication\n",
        "On a piece of paper or tablet, **legibly** complete the following matrix multiplication (not element-wise multiplication!) exercise:\n",
        "$$A * B$$\n",
        "\n",
        "\n",
        "\n",
        "\n",
        "Label your response as \"Solution to Exercise 10\". Show your work as we did in lecture.\n",
        "\n",
        "Check your solution in the cell below uinsg `np.matmul()`."
      ]
    },
    {
      "cell_type": "code",
      "execution_count": 25,
      "id": "4e2798fb",
      "metadata": {
        "id": "4e2798fb",
        "colab": {
          "base_uri": "https://localhost:8080/"
        },
        "outputId": "639f5567-457a-4d1e-9e91-48694d986905"
      },
      "outputs": [
        {
          "output_type": "stream",
          "name": "stdout",
          "text": [
            "[[ 36  11  -4 -30]\n",
            " [-20  19  25  85]\n",
            " [ 14   6   6  11]]\n",
            "[[ True  True  True  True]\n",
            " [ True  True  True  True]\n",
            " [ True  True  True  True]]\n"
          ]
        }
      ],
      "source": [
        "# Exercise 10 Code\n",
        "Solution_to_Exercise_10 = [[36,11,-4,-30],[-20,19,25,85],[14,6,6,11]]\n",
        "print(np.matmul(A,B))\n",
        "print(Solution_to_Exercise_10 == np.matmul(A,B))"
      ]
    },
    {
      "cell_type": "markdown",
      "id": "0ee66928",
      "metadata": {
        "id": "0ee66928"
      },
      "source": [
        "## Exercise 11 -- Plotting with `np.linspace`\n",
        "Using `numpy` and `matplotlib.pyplot`, plot the function `sin(log(x))`.\n",
        "Make sure you use a fine grid.\n",
        "\n",
        "**Hint:** Look at lectures for hints."
      ]
    },
    {
      "cell_type": "code",
      "execution_count": 44,
      "id": "ea993843",
      "metadata": {
        "id": "ea993843",
        "colab": {
          "base_uri": "https://localhost:8080/",
          "height": 538
        },
        "outputId": "f7f180d4-9c9c-4d99-b166-3797837931b6"
      },
      "outputs": [
        {
          "output_type": "stream",
          "name": "stderr",
          "text": [
            "<ipython-input-44-17566417e124>:6: RuntimeWarning: divide by zero encountered in log\n",
            "  y = np.sin(np.log(x))\n",
            "<ipython-input-44-17566417e124>:6: RuntimeWarning: invalid value encountered in sin\n",
            "  y = np.sin(np.log(x))\n"
          ]
        },
        {
          "output_type": "execute_result",
          "data": {
            "text/plain": [
              "Text(0, 0.5, 'sin(log(x))')"
            ]
          },
          "metadata": {},
          "execution_count": 44
        },
        {
          "output_type": "display_data",
          "data": {
            "text/plain": [
              "<Figure size 640x480 with 1 Axes>"
            ],
            "image/png": "[encoded data removed]"
          },
          "metadata": {}
        }
      ],
      "source": [
        "# Exercise 11 Code\n",
        "import matplotlib.pyplot as plt\n",
        "\n",
        "x = np.linspace(0, 10, 100)\n",
        "\n",
        "y = np.sin(np.log(x))\n",
        "\n",
        "plt.plot(x, y)\n",
        "plt.xlabel(\"x\")\n",
        "plt.ylabel(\"sin(log(x))\")\n"
      ]
    },
    {
      "cell_type": "markdown",
      "id": "e9452e99",
      "metadata": {
        "id": "e9452e99"
      },
      "source": [
        "## Exercise 12 -- Multidimensional Arrays\n",
        "Run the following command `print(np.zeros((3,4,5)))` in the cell below and answer the following questions in the Markdown cell below.\n",
        "1. What do you think the dimensionality of this array is?  \n",
        "2. Why would writing this array on paper be difficult?\n",
        "\n"
      ]
    },
    {
      "cell_type": "code",
      "execution_count": 46,
      "id": "541190ea",
      "metadata": {
        "scrolled": true,
        "id": "541190ea",
        "colab": {
          "base_uri": "https://localhost:8080/"
        },
        "outputId": "fa16eb65-3793-4d74-a878-100fbee02d16"
      },
      "outputs": [
        {
          "output_type": "stream",
          "name": "stdout",
          "text": [
            "[[[0. 0. 0. 0. 0.]\n",
            "  [0. 0. 0. 0. 0.]\n",
            "  [0. 0. 0. 0. 0.]\n",
            "  [0. 0. 0. 0. 0.]]\n",
            "\n",
            " [[0. 0. 0. 0. 0.]\n",
            "  [0. 0. 0. 0. 0.]\n",
            "  [0. 0. 0. 0. 0.]\n",
            "  [0. 0. 0. 0. 0.]]\n",
            "\n",
            " [[0. 0. 0. 0. 0.]\n",
            "  [0. 0. 0. 0. 0.]\n",
            "  [0. 0. 0. 0. 0.]\n",
            "  [0. 0. 0. 0. 0.]]]\n"
          ]
        }
      ],
      "source": [
        "# Exercise 12 Code\n",
        "print(np.zeros((3,4,5)))"
      ]
    },
    {
      "cell_type": "markdown",
      "id": "bb249cad",
      "metadata": {
        "id": "bb249cad"
      },
      "source": [
        "### Response to Exercise 12\n",
        "This array is 3d, which could not be written on a 2d paper."
      ]
    }
  ],
  "metadata": {
    "kernelspec": {
      "display_name": "Python 3 (ipykernel)",
      "language": "python",
      "name": "python3"
    },
    "language_info": {
      "codemirror_mode": {
        "name": "ipython",
        "version": 3
      },
      "file_extension": ".py",
      "mimetype": "text/x-python",
      "name": "python",
      "nbconvert_exporter": "python",
      "pygments_lexer": "ipython3",
      "version": "3.9.15"
    },
    "colab": {
      "provenance": []
    }
  },
  "nbformat": 4,
  "nbformat_minor": 5
}