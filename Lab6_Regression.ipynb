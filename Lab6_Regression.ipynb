{
  "cells": [
    {
      "cell_type": "markdown",
      "id": "56fb16cb",
      "metadata": {
        "id": "56fb16cb"
      },
      "source": [
        "## Lab Assignment 6 -- Regression\n",
        "In this lab, you will complete an exercises related to the lecture material on regression. Then, you will compete with your fellow classmates to see who can best predict housing prices.\n",
        "\n",
        "**IMPORTANT:** Before submitting, make sure you restart the kernel and run all cells sequentially. After all cells have executed, then save the file for submission.  This is very important for grading."
      ]
    },
    {
      "cell_type": "code",
      "id": "3fa22484",
      "metadata": {
        "id": "3fa22484"
      },
      "source": [
        "# Don't change this line\n",
        "import numpy as np\n",
        "import matplotlib.pyplot as plt\n",
        "from sklearn import metrics\n",
        "import pandas as pd\n",
        "np.random.seed(35)"
      ],
      "outputs": [],
      "execution_count": 1
    },
    {
      "cell_type": "markdown",
      "id": "a8137271",
      "metadata": {
        "id": "a8137271"
      },
      "source": [
        "## Exercise 1 -- Generating & Analyzing Fake Data\n",
        "In this exercise, we will generate some fake data as we did in the lecture on regression trees. Then, we will use it on a series of regression problems."
      ]
    },
    {
      "cell_type": "markdown",
      "id": "509af2e9",
      "metadata": {
        "id": "509af2e9"
      },
      "source": [
        "## Exercise 1a -- Generating the Data\n",
        "Complete the following steps:\n",
        "1. Define a function called `generate_data` that takes two arguments, an integer `n` and a boolean `square`. `square` should have a default argument of `False`.\n",
        "2. Generate an array called `X` and set it equal to `np.random.randn((n,1))`. This creates an $n$-vector of [**standard normal random variables**](https://en.wikipedia.org/wiki/Normal_distribution).\n",
        "3. Turn `X` into an $nx2$ array by concatenating it with an $n$-vector of ones (**Hint**: use `np.ones((n,1))` and `np.concatenate()`). Make sure that the array of ones serves as the first column.\n",
        "3. Define an array called `beta` and set it equal to the array [1, 3.14]\n",
        "4. Define a variable called `epsilon` and set it equal to `np.random.randn(n)*0.3`\n",
        "5. Then, using `X`, `beta`, and `epsilon`, create a variable named `y` which is equal to\n",
        "    - `np.matmul(X, beta) + epsilon` if square is `False`\n",
        "    - `np.matmul(X ** 2, beta) + epsilon` if `square` is `True`.\n",
        "    \n",
        "6. Your output should return `X`and `y`\n",
        "7. Test your function in the cell below with `n=100` and no argument for `square`. Save the output to `X100` and `y100` respectively. Afterwards, print `y100[50]`.\n",
        "\n",
        "Answer the following questions in the Markdown cell below:\n",
        "1. Is this a bivariate or multivariate linear regression model? Why?\n",
        "2. What is the purpose of  including this `epsilon`? What aspect of real data are we trying to mimic?"
      ]
    },
    {
      "cell_type": "code",
      "id": "c847213c",
      "metadata": {
        "colab": {
          "base_uri": "https://localhost:8080/"
        },
        "id": "c847213c",
        "outputId": "8b2a88ba-f8b8-4914-eecd-ad05fc23ad42"
      },
      "source": [
        "# Exercise 1a -- Test function and print\n",
        "\n",
        "def generate_data(n, square = False):\n",
        "  X = np.random.randn(n,1)\n",
        "  X = np.concatenate([np.ones((n, 1)), X], axis=1)\n",
        "  beta = np.array([1, 3.14])\n",
        "  epsilon = np.random.randn(n)*0.3\n",
        "\n",
        "  if square == False:\n",
        "    y = np.matmul(X, beta) + epsilon\n",
        "  else:\n",
        "    y = np.matmul(X ** 2, beta) + epsilon\n",
        "\n",
        "  return X, y\n",
        "\n",
        "X100, y100 = generate_data(100)\n",
        "\n",
        "print(y100[50])\n"
      ],
      "outputs": [
        {
          "output_type": "stream",
          "name": "stdout",
          "text": [
            "-2.855072207243597\n"
          ]
        }
      ],
      "execution_count": 2
    },
    {
      "cell_type": "markdown",
      "id": "d9d47ea4",
      "metadata": {
        "id": "d9d47ea4"
      },
      "source": [
        "### Reponse to Exercise 1a\n",
        "\n",
        "1. This is a bivariate linear regression model.The response variable `y` is modeled as a linear function of two features including `X` and `beta` and `X` is determined by `n`.\n",
        "\n",
        "2. Its purpose is to represent random error in the data and mimic the imperfections and variability in real data."
      ]
    },
    {
      "cell_type": "markdown",
      "id": "be3ee923",
      "metadata": {
        "id": "be3ee923"
      },
      "source": [
        "## Exercise 1b -- Standard Linear Regression\n",
        "Using `sklearn`, fit a linear regression model on `y100` and `X100`. When intializing your model, set `fit_intercept` equal to `False` and call your linear model `lr_model_1`. Then, print the estimated coefficients and answer the following question in the Markdown cell below.\n",
        "- What are the coefficient estimates? What values are they close to? Why does this make sense?\n",
        "\n"
      ]
    },
    {
      "cell_type": "code",
      "id": "f9955e7f",
      "metadata": {
        "colab": {
          "base_uri": "https://localhost:8080/"
        },
        "id": "f9955e7f",
        "outputId": "f9c739fc-ee85-46ad-dc48-dc7423465a39"
      },
      "source": [
        "# Exercise 1b -- fit regression\n",
        "from sklearn import linear_model\n",
        "fit_intercept = False\n",
        "lr_model_1 = linear_model.LinearRegression(fit_intercept=False)\n",
        "lr_model_1 .fit(X100, y100)\n",
        "\n",
        "# print the coefficients\n",
        "print(\"Estimated coefficients:\", lr_model_1.coef_)"
      ],
      "outputs": [
        {
          "output_type": "stream",
          "name": "stdout",
          "text": [
            "Estimated coefficients: [1.01335663 3.18589237]\n"
          ]
        }
      ],
      "execution_count": 3
    },
    {
      "cell_type": "code",
      "source": [
        "# lr_model_1.intercept_"
      ],
      "metadata": {
        "id": "UmeadEE5IcD9"
      },
      "id": "UmeadEE5IcD9",
      "execution_count": 4,
      "outputs": []
    },
    {
      "cell_type": "markdown",
      "id": "d0d5d044",
      "metadata": {
        "id": "d0d5d044"
      },
      "source": [
        "### Response to Exercise 1b\n",
        "The estimated coefficients should be close to the values [1, 3.14]. Because we defined beta as [1, 3.14] in the `generate_data function`. The variable `y` was generated using this and the relationship between` X` and `y` should follow the linear relationship."
      ]
    },
    {
      "cell_type": "markdown",
      "id": "085c9960",
      "metadata": {
        "id": "085c9960"
      },
      "source": [
        "## Exercise 1c -- Linear Regression with Quadratic Terms\n",
        "Using `generate_data(100, True)`, create two variables `y100_2` and `X100_2`. Then, repeat the steps from **Exercise 1b** above using `X100_2` and `y100_2` instead of `X_100` and `y_100`.  Call your new model `linear_model_2`.\n",
        "\n",
        "Answer the following questions in the Markdown cell below:\n",
        "\n",
        "1. What are the coefficient estimates? Are they similar to the coefficients from **Exercise 1b**? Why or why not?\n",
        "\n",
        "If your estimates were not similar, create a variable `X100_2_sq` in the third cell below that can be used instead of `X100_2` so that your estimates are similar again. Repeat the same process again but call your `lr_model_3`. Print your new estimated coefficients.\n",
        "\n",
        "In the markdown cell below, answer the following question:\n",
        "\n",
        "2. How did you modify `X100_2` to attain similar coefficients? Why did this work?"
      ]
    },
    {
      "cell_type": "code",
      "id": "be504991",
      "metadata": {
        "colab": {
          "base_uri": "https://localhost:8080/"
        },
        "id": "be504991",
        "outputId": "66a1be8e-456d-4fa2-e29e-22d3b572832d"
      },
      "source": [
        "# Exercise 1c -- generate variables and repeat regression fit\n",
        "X100_2 , y100_2 = generate_data(100, True)\n",
        "\n",
        "fit_intercept = False\n",
        "linear_model_2 = linear_model.LinearRegression(fit_intercept=False)\n",
        "linear_model_2 .fit(X100_2, y100_2)\n",
        "\n",
        "print(linear_model_2.coef_)"
      ],
      "outputs": [
        {
          "output_type": "stream",
          "name": "stdout",
          "text": [
            "[3.96585832 0.83947215]\n"
          ]
        }
      ],
      "execution_count": 5
    },
    {
      "cell_type": "markdown",
      "id": "064117e4",
      "metadata": {
        "id": "064117e4"
      },
      "source": [
        "### Response to Exercise 1c -- Question 1\n",
        "The coefficient estimates are [4 1]and they are not similar to those from `lr_model_1`. Because `y100_2` was generated using `X ** 2`, but the `linear_model_2 `was fitted using `X`."
      ]
    },
    {
      "cell_type": "code",
      "id": "af3c6cd1",
      "metadata": {
        "colab": {
          "base_uri": "https://localhost:8080/"
        },
        "id": "af3c6cd1",
        "outputId": "4df4adf2-a367-4b9f-9086-02628061b28b"
      },
      "source": [
        "# Exercise 1c -- modify X100_2 and run new regression\n",
        "X100_2_sq = X100_2 ** 2\n",
        "\n",
        "fit_intercept = False\n",
        "lr_model_3 = linear_model.LinearRegression(fit_intercept=False)\n",
        "lr_model_3 .fit(X100_2_sq, y100_2)\n",
        "\n",
        "print(lr_model_3.coef_)"
      ],
      "outputs": [
        {
          "output_type": "stream",
          "name": "stdout",
          "text": [
            "[0.99205242 3.11570564]\n"
          ]
        }
      ],
      "execution_count": 6
    },
    {
      "cell_type": "markdown",
      "id": "ad67e55d",
      "metadata": {
        "id": "ad67e55d"
      },
      "source": [
        "### Response to Exercise 1c -- Quesiton 2\n",
        " I modify `X100_2` to `X100_2 ** 2` to attain similar coefficients because this aligns with the regression equation when square equals true."
      ]
    },
    {
      "cell_type": "markdown",
      "id": "bebaa1d3",
      "metadata": {
        "id": "bebaa1d3"
      },
      "source": [
        "### Exercise 1d -- Unnecessary Quadratic Terms\n",
        "Now we are going to see what happens when we estimate a model that only has linear terms using both linear and quadratic terms. Complete the following steps:\n",
        "1. Create an $nx3$ array called `X100_ext` by concatenating `X100` with a column that is equal to the square of elements in the second column. Make sure this new column is the third column. Note that `np.concatenate` requires that both arrays are of the same dimension. You may have to use the method [`.reshape()`](https://numpy.org/doc/stable/reference/generated/numpy.reshape.html).\n",
        "2. Now repeat the steps of **Exercise 1b** with `X100_ext`. Make sure you print the estimated coefficients.\n",
        "\n",
        "Answer the following questions in the Markdown cell below:\n",
        "1. Are the first two coefficients different from their respective counterparts in part **Exercise 1b**? Why do you think this is?\n",
        "2.  Is the third coeffcient close to 0 or large? Why do you think this is?\n",
        "3. Do you think these estimates are accurate?"
      ]
    },
    {
      "cell_type": "code",
      "id": "ba894f15",
      "metadata": {
        "scrolled": true,
        "id": "ba894f15"
      },
      "source": [
        "# Exercise 1d -- Create X100_ext here\n",
        "X100_ext = np.concatenate([X100, (X100[:, 1:] ** 2).reshape(-1, 1)], axis=1)\n"
      ],
      "outputs": [],
      "execution_count": 7
    },
    {
      "cell_type": "code",
      "id": "50115717",
      "metadata": {
        "colab": {
          "base_uri": "https://localhost:8080/"
        },
        "id": "50115717",
        "outputId": "7b6dea94-a64c-4287-a612-d9a7f726a8bd"
      },
      "source": [
        "# Exercise 1d -- Repeat exercise 1b here\n",
        "fit_intercept=False\n",
        "lr_model_4 = linear_model.LinearRegression(fit_intercept=False)\n",
        "\n",
        "lr_model_4.fit(X100_ext, y100)\n",
        "\n",
        "print(lr_model_4.coef_)"
      ],
      "outputs": [
        {
          "output_type": "stream",
          "name": "stdout",
          "text": [
            "[ 1.02282831  3.18470138 -0.00810062]\n"
          ]
        }
      ],
      "execution_count": 8
    },
    {
      "cell_type": "markdown",
      "id": "a18eab25",
      "metadata": {
        "id": "a18eab25"
      },
      "source": [
        "### Response to Exercise 1d\n",
        "1. The first two coefficients are approximately [1, 3.18]slightly different from their respective counterparts in Exercise 1b. In Exercise 1b, the coefficients were closer to [1, 3.14]. Because the model is now including an additional explanatory variable.\n",
        "\n",
        "2. The third coefficient is close to 0. This is because the quadratic term in X100_ext does not significantly contribute to the variabley100.\n",
        "\n",
        "3. The estimates are reasonably accurate. The first two coefficients are close to their true values [1, 3.14], indicating the linear relationship . The third coefficient close to 0 aligns with the fact that the data generation did not include a quadratic term."
      ]
    },
    {
      "cell_type": "markdown",
      "id": "7b3fd11d",
      "metadata": {
        "id": "7b3fd11d"
      },
      "source": [
        "## Exercise 1e -- Regression Plots\n",
        "Following the notes in the plotting lectures complete the following steps:\n",
        "1. Using `subplots()` initialize a figure with 4 figures in a $2x2$ grid\n",
        "2. Plot the following in the indicated location.\n",
        "    - **Top-left**  -- a line plot of `lr_model_1` and a scatter plot of the data used to generate `lr_model_1`.\n",
        "    - **Bottom-left**  -- a line plot of `lr_model_2` and a scatter plot of the data used to generate `lr_model_2`\n",
        "    - **Bottom-right** -- a line plot of `lr_model_3` and a scatter plot of the data used to generate `lr_model_3`\n",
        "    - **Top-right** -- a line plot of `lr_model_4` and a scatter plot of the data used to generate `lr_model_4`\n",
        "    \n",
        "For the plots above,\n",
        "- make your lines red,\n",
        "- title your plots (e.g. \"Linear Model 1\"),\n",
        "- use `np.linspace(-4,4,200)` as your domain when plotting the lines,\n",
        "- call `fig.tight_layout()` so your plot is not cluttered\n",
        "\n",
        "3. Using the `metrics` submodule of `sklearn`, print the `in-sample` mean squared errors of each model using f strings. Your stings should looke like this: \"MSE of Linear Model 1 is .3\"  \n",
        "**Hints:** .\n",
        "- To plot on the top left axis, you will need to work with `axes.flat[0]` . The remaining axes are indexed by 1, 2, and 3.\n",
        "- If you choose to used the `.predict()` to plot your lines, keep in mind you need to provide it with the correctly shaped input.\n",
        "- When calculating the means within a loop, it may hep to create a list that contains the four linear models.\n"
      ]
    },
    {
      "cell_type": "code",
      "id": "06bb2cad",
      "metadata": {
        "scrolled": false,
        "colab": {
          "base_uri": "https://localhost:8080/",
          "height": 486
        },
        "id": "06bb2cad",
        "outputId": "c901ac1d-e5bf-4a68-c416-9c1f71c80169"
      },
      "source": [
        "# Exercise 1e -- plots\n",
        "x_values = np.linspace(-4, 4, 200).reshape(-1,1)\n",
        "X_values = np.concatenate([np.ones_like(x_values), x_values], axis=1)\n",
        "X_values_sq = np.concatenate([np.ones_like(x_values), x_values**2], axis=1)\n",
        "X_values_ext = np.concatenate([np.ones_like(x_values), x_values, x_values**2], axis=1)\n",
        "\n",
        "y1 = lr_model_1.predict(X_values)\n",
        "y2 = linear_model_2.predict(X_values)\n",
        "y3 = lr_model_3.predict(X_values_sq)\n",
        "y4 = lr_model_4.predict(X_values_ext)\n",
        "\n",
        "fig, axes = plt.subplots(2, 2)\n",
        "\n",
        "# linear model 1\n",
        "axes.flat[0].scatter(X100[:, 1], y100, color='red', alpha=0.5, label='Data')\n",
        "axes.flat[0].plot(x_values, y1, color='red', label='Model')\n",
        "axes.flat[0].set_title(\"Linear Model 1\")\n",
        "axes.flat[0].legend()\n",
        "\n",
        "# linear model 2\n",
        "axes.flat[1].scatter(X100_2[:, 1], y100_2, color='red', alpha=0.5, label='Data')\n",
        "axes.flat[1].plot(x_values, y2, color='red', label='Model')\n",
        "axes.flat[1].set_title(\"Linear Model 2\")\n",
        "axes.flat[1].legend()\n",
        "\n",
        "# linear model 3\n",
        "axes.flat[2].scatter(X100_2[:, 1], y100_2, color='red', alpha=0.5, label='Data')\n",
        "axes.flat[2].plot(x_values, y3, color='red', label='Model')\n",
        "axes.flat[2].set_title(\"Linear Model 3\")\n",
        "axes.flat[2].legend()\n",
        "\n",
        "#linear model 4\n",
        "axes.flat[3].scatter(X100[:, 1], y100, color='red', alpha=0.5, label='Data')\n",
        "axes.flat[3].plot(x_values, y4, color='red', label='Model')\n",
        "axes.flat[3].set_title(\"Linear Model 4\")\n",
        "axes.flat[3].legend()\n",
        "\n",
        "fig.tight_layout()\n"
      ],
      "outputs": [
        {
          "output_type": "display_data",
          "data": {
            "text/plain": [
              "<Figure size 640x480 with 4 Axes>"
            ],
            "image/png": "[encoded data removed]"
          },
          "metadata": {}
        }
      ],
      "execution_count": 9
    },
    {
      "cell_type": "code",
      "id": "83de691e",
      "metadata": {
        "scrolled": true,
        "id": "83de691e",
        "colab": {
          "base_uri": "https://localhost:8080/"
        },
        "outputId": "5c458ae1-d7fe-4631-9865-01e96ad36f32"
      },
      "source": [
        "# Exercise 1e -- mean squared errors\n",
        "from sklearn import metrics\n",
        "models = [lr_model_1, linear_model_2, lr_model_3, lr_model_4]\n",
        "data = [(X100, y100), (X100_2, y100_2), (X100_2_sq, y100_2), (X100_ext, y100)]\n",
        "\n",
        "for i, (model, (X, y)) in enumerate(zip(models, data), 1):\n",
        "    y_re = model.predict(X)\n",
        "    mse = metrics.mean_squared_error(y, y_re)\n",
        "    print(f\"MSE of Linear Model {i} is {mse:.3f}\")"
      ],
      "outputs": [
        {
          "output_type": "stream",
          "name": "stdout",
          "text": [
            "MSE of Linear Model 1 is 0.100\n",
            "MSE of Linear Model 2 is 15.667\n",
            "MSE of Linear Model 3 is 0.093\n",
            "MSE of Linear Model 4 is 0.099\n"
          ]
        }
      ],
      "execution_count": 10
    },
    {
      "cell_type": "markdown",
      "id": "81baa272",
      "metadata": {
        "id": "81baa272"
      },
      "source": [
        "### Exercise 1f -- Functional Misspecification\n",
        "**Functional Misspecification** is used to describe the situation where the functional form of the regression model we are estimating is not the same as the functional form of the true data generating process. Answer the following question in the markdown cell below:\n",
        "- Which of the four linear models do you think are well-specified? Which ones are not? Is including extra terms problematic when it comes to being well-specified. What about excluding the terms found in the true data generating process?\n",
        "- How does misspecification manifest itself in the plots? How about in the mean squared errors?\n",
        "- After doing this exercise, do you think it is important to investigate the relationship between variables before determining your regression specification? Why or why not?"
      ]
    },
    {
      "cell_type": "markdown",
      "id": "03d3f378",
      "metadata": {
        "id": "03d3f378"
      },
      "source": [
        "### Response to Exercise 1f\n",
        "1. linear model 1 ,3 and 4 are well-specified and linear model 2 is not.Including extra terms (model 4)is not necessarily problematic. Excluding terms found in the true data generating process (model 2) is problematic. It leads to poor fit and increases the mean squared error.\n",
        "2. Misspecified models (model 2) show poor alignment between the model prediction line and the actual data .And misspecified models have higher MSE, indicating a poorer fit to the data.\n",
        "3. Yes, proper investigation helps us determine our regression specification better.Correct specification contributes to lower MSEs and better alignment in plots."
      ]
    },
    {
      "cell_type": "markdown",
      "id": "77c7d5c8",
      "metadata": {
        "id": "77c7d5c8"
      },
      "source": [
        "### Exercise 1g -- Lasso\n",
        "Finally, we will run lasso on our fake data. Complete the following steps:\n",
        "1. Generate `X1000` and `y1000` using `generate_data(1000)`\n",
        "2. Create an `1000x3` array called `X1000_ext` which is created in a anaglous fashion to `X100_ext`.\n",
        "3. Follow the lecture notes to create a standardized version of `X1000_ext` called `X1000_ext_scl`. You will need to import the `preprocessing` submodule of sklearn.\n",
        "4. Check to make sure your means and variances. You should see that everything looks good except for our intercept has a variance of $0$. You actually do not want to standardize an intercept but we still need it! Replace the first column of  `X1000_ext_scl` with a fresh column of ones using `np.ones(1000)`.\n",
        "5. Create a dataframe version of `X1000_ext_scl` called `X_lasso_df` and rename the columns to \"intercept\", \"x\", and \"x_sq\" respectively.Then call `X_lasso_df` at the bottom of the cell.\n",
        "6. Copy and paste the Lasso path code from the lecture notes into the second cell below. Adapt it so it works for `X_lasso_df` and `y1000`.\n",
        "\n",
        "\n",
        "In the Markdown cell below, answer the following questions:\n",
        "1. Characterize `X_sq`'s lasso path. Why was this behavior predictable?    Reference linear model 4 or the true DGP in your answer.\n",
        "2. Without checking, do you think a low or high value for alpha would be chosen by cross validation? To help you answer this question, think about what the true coefficients are and whether or not higher alphas bring the lasso coefficients closer to their true counterparts or farther away."
      ]
    },
    {
      "cell_type": "code",
      "id": "c250202b",
      "metadata": {
        "scrolled": false,
        "id": "c250202b",
        "colab": {
          "base_uri": "https://localhost:8080/",
          "height": 424
        },
        "outputId": "4d761df3-fed9-491a-be89-abd9842d1dc7"
      },
      "source": [
        "# Exercise 1g -- Steps 1-5\n",
        "X1000, y1000 = generate_data(1000)\n",
        "\n",
        "X1000_ext = np.concatenate([X1000, (X1000[:, 1:] ** 2).reshape(-1, 1)], axis=1)\n",
        "\n",
        "from sklearn import preprocessing\n",
        "scaler = preprocessing.StandardScaler().fit(X)\n",
        "X1000_ext_scl = scaler.fit_transform(X1000_ext)\n",
        "\n",
        "\n",
        "X1000_ext_scl[:, 0] = np.ones(1000)\n",
        "\n",
        "X_lasso_df = pd.DataFrame(X1000_ext_scl, columns=[\"intercept\", \"x\", \"x_sq\"])\n",
        "X_lasso_df\n"
      ],
      "outputs": [
        {
          "output_type": "execute_result",
          "data": {
            "text/plain": [
              "     intercept         x      x_sq\n",
              "0          1.0 -0.524930 -0.524031\n",
              "1          1.0  1.552270  0.992600\n",
              "2          1.0 -0.654974 -0.400776\n",
              "3          1.0 -1.091785  0.201461\n",
              "4          1.0 -0.239695 -0.704329\n",
              "..         ...       ...       ...\n",
              "995        1.0 -1.243026  0.477589\n",
              "996        1.0 -0.430610 -0.597340\n",
              "997        1.0  0.615512 -0.503483\n",
              "998        1.0 -0.621270 -0.435188\n",
              "999        1.0 -0.533116 -0.517030\n",
              "\n",
              "[1000 rows x 3 columns]"
            ],
            "text/html": [
              "\n",
              "  <div id=\"df-8f1d14ae-fff4-4026-8ce7-2b79141e6737\" class=\"colab-df-container\">\n",
              "    <div>\n",
              "<style scoped>\n",
              "    .dataframe tbody tr th:only-of-type {\n",
              "        vertical-align: middle;\n",
              "    }\n",
              "\n",
              "    .dataframe tbody tr th {\n",
              "        vertical-align: top;\n",
              "    }\n",
              "\n",
              "    .dataframe thead th {\n",
              "        text-align: right;\n",
              "    }\n",
              "</style>\n",
              "<table border=\"1\" class=\"dataframe\">\n",
              "  <thead>\n",
              "    <tr style=\"text-align: right;\">\n",
              "      <th></th>\n",
              "      <th>intercept</th>\n",
              "      <th>x</th>\n",
              "      <th>x_sq</th>\n",
              "    </tr>\n",
              "  </thead>\n",
              "  <tbody>\n",
              "    <tr>\n",
              "      <th>0</th>\n",
              "      <td>1.0</td>\n",
              "      <td>-0.524930</td>\n",
              "      <td>-0.524031</td>\n",
              "    </tr>\n",
              "    <tr>\n",
              "      <th>1</th>\n",
              "      <td>1.0</td>\n",
              "      <td>1.552270</td>\n",
              "      <td>0.992600</td>\n",
              "    </tr>\n",
              "    <tr>\n",
              "      <th>2</th>\n",
              "      <td>1.0</td>\n",
              "      <td>-0.654974</td>\n",
              "      <td>-0.400776</td>\n",
              "    </tr>\n",
              "    <tr>\n",
              "      <th>3</th>\n",
              "      <td>1.0</td>\n",
              "      <td>-1.091785</td>\n",
              "      <td>0.201461</td>\n",
              "    </tr>\n",
              "    <tr>\n",
              "      <th>4</th>\n",
              "      <td>1.0</td>\n",
              "      <td>-0.239695</td>\n",
              "      <td>-0.704329</td>\n",
              "    </tr>\n",
              "    <tr>\n",
              "      <th>...</th>\n",
              "      <td>...</td>\n",
              "      <td>...</td>\n",
              "      <td>...</td>\n",
              "    </tr>\n",
              "    <tr>\n",
              "      <th>995</th>\n",
              "      <td>1.0</td>\n",
              "      <td>-1.243026</td>\n",
              "      <td>0.477589</td>\n",
              "    </tr>\n",
              "    <tr>\n",
              "      <th>996</th>\n",
              "      <td>1.0</td>\n",
              "      <td>-0.430610</td>\n",
              "      <td>-0.597340</td>\n",
              "    </tr>\n",
              "    <tr>\n",
              "      <th>997</th>\n",
              "      <td>1.0</td>\n",
              "      <td>0.615512</td>\n",
              "      <td>-0.503483</td>\n",
              "    </tr>\n",
              "    <tr>\n",
              "      <th>998</th>\n",
              "      <td>1.0</td>\n",
              "      <td>-0.621270</td>\n",
              "      <td>-0.435188</td>\n",
              "    </tr>\n",
              "    <tr>\n",
              "      <th>999</th>\n",
              "      <td>1.0</td>\n",
              "      <td>-0.533116</td>\n",
              "      <td>-0.517030</td>\n",
              "    </tr>\n",
              "  </tbody>\n",
              "</table>\n",
              "<p>1000 rows × 3 columns</p>\n",
              "</div>\n",
              "    <div class=\"colab-df-buttons\">\n",
              "\n",
              "  <div class=\"colab-df-container\">\n",
              "    <button class=\"colab-df-convert\" onclick=\"convertToInteractive('df-8f1d14ae-fff4-4026-8ce7-2b79141e6737')\"\n",
              "            title=\"Convert this dataframe to an interactive table.\"\n",
              "            style=\"display:none;\">\n",
              "\n",
              "  <svg xmlns=\"http://www.w3.org/2000/svg\" height=\"24px\" viewBox=\"0 -960 960 960\">\n",
              "    <path d=\"M120-120v-720h720v720H120Zm60-500h600v-160H180v160Zm220 220h160v-160H400v160Zm0 220h160v-160H400v160ZM180-400h160v-160H180v160Zm440 0h160v-160H620v160ZM180-180h160v-160H180v160Zm440 0h160v-160H620v160Z\"/>\n",
              "  </svg>\n",
              "    </button>\n",
              "\n",
              "  <style>\n",
              "    .colab-df-container {\n",
              "      display:flex;\n",
              "      gap: 12px;\n",
              "    }\n",
              "\n",
              "    .colab-df-convert {\n",
              "      background-color: #E8F0FE;\n",
              "      border: none;\n",
              "      border-radius: 50%;\n",
              "      cursor: pointer;\n",
              "      display: none;\n",
              "      fill: #1967D2;\n",
              "      height: 32px;\n",
              "      padding: 0 0 0 0;\n",
              "      width: 32px;\n",
              "    }\n",
              "\n",
              "    .colab-df-convert:hover {\n",
              "      background-color: #E2EBFA;\n",
              "      box-shadow: 0px 1px 2px rgba(60, 64, 67, 0.3), 0px 1px 3px 1px rgba(60, 64, 67, 0.15);\n",
              "      fill: #174EA6;\n",
              "    }\n",
              "\n",
              "    .colab-df-buttons div {\n",
              "      margin-bottom: 4px;\n",
              "    }\n",
              "\n",
              "    [theme=dark] .colab-df-convert {\n",
              "      background-color: #3B4455;\n",
              "      fill: #D2E3FC;\n",
              "    }\n",
              "\n",
              "    [theme=dark] .colab-df-convert:hover {\n",
              "      background-color: #434B5C;\n",
              "      box-shadow: 0px 1px 3px 1px rgba(0, 0, 0, 0.15);\n",
              "      filter: drop-shadow(0px 1px 2px rgba(0, 0, 0, 0.3));\n",
              "      fill: #FFFFFF;\n",
              "    }\n",
              "  </style>\n",
              "\n",
              "    <script>\n",
              "      const buttonEl =\n",
              "        document.querySelector('#df-8f1d14ae-fff4-4026-8ce7-2b79141e6737 button.colab-df-convert');\n",
              "      buttonEl.style.display =\n",
              "        google.colab.kernel.accessAllowed ? 'block' : 'none';\n",
              "\n",
              "      async function convertToInteractive(key) {\n",
              "        const element = document.querySelector('#df-8f1d14ae-fff4-4026-8ce7-2b79141e6737');\n",
              "        const dataTable =\n",
              "          await google.colab.kernel.invokeFunction('convertToInteractive',\n",
              "                                                    [key], {});\n",
              "        if (!dataTable) return;\n",
              "\n",
              "        const docLinkHtml = 'Like what you see? Visit the ' +\n",
              "          '<a target=\"_blank\" href=https://colab.research.google.com/notebooks/data_table.ipynb>data table notebook</a>'\n",
              "          + ' to learn more about interactive tables.';\n",
              "        element.innerHTML = '';\n",
              "        dataTable['output_type'] = 'display_data';\n",
              "        await google.colab.output.renderOutput(dataTable, element);\n",
              "        const docLink = document.createElement('div');\n",
              "        docLink.innerHTML = docLinkHtml;\n",
              "        element.appendChild(docLink);\n",
              "      }\n",
              "    </script>\n",
              "  </div>\n",
              "\n",
              "\n",
              "<div id=\"df-5cb97eee-ad90-49c6-a582-cead63aefd10\">\n",
              "  <button class=\"colab-df-quickchart\" onclick=\"quickchart('df-5cb97eee-ad90-49c6-a582-cead63aefd10')\"\n",
              "            title=\"Suggest charts\"\n",
              "            style=\"display:none;\">\n",
              "\n",
              "<svg xmlns=\"http://www.w3.org/2000/svg\" height=\"24px\"viewBox=\"0 0 24 24\"\n",
              "     width=\"24px\">\n",
              "    <g>\n",
              "        <path d=\"M19 3H5c-1.1 0-2 .9-2 2v14c0 1.1.9 2 2 2h14c1.1 0 2-.9 2-2V5c0-1.1-.9-2-2-2zM9 17H7v-7h2v7zm4 0h-2V7h2v10zm4 0h-2v-4h2v4z\"/>\n",
              "    </g>\n",
              "</svg>\n",
              "  </button>\n",
              "\n",
              "<style>\n",
              "  .colab-df-quickchart {\n",
              "      --bg-color: #E8F0FE;\n",
              "      --fill-color: #1967D2;\n",
              "      --hover-bg-color: #E2EBFA;\n",
              "      --hover-fill-color: #174EA6;\n",
              "      --disabled-fill-color: #AAA;\n",
              "      --disabled-bg-color: #DDD;\n",
              "  }\n",
              "\n",
              "  [theme=dark] .colab-df-quickchart {\n",
              "      --bg-color: #3B4455;\n",
              "      --fill-color: #D2E3FC;\n",
              "      --hover-bg-color: #434B5C;\n",
              "      --hover-fill-color: #FFFFFF;\n",
              "      --disabled-bg-color: #3B4455;\n",
              "      --disabled-fill-color: #666;\n",
              "  }\n",
              "\n",
              "  .colab-df-quickchart {\n",
              "    background-color: var(--bg-color);\n",
              "    border: none;\n",
              "    border-radius: 50%;\n",
              "    cursor: pointer;\n",
              "    display: none;\n",
              "    fill: var(--fill-color);\n",
              "    height: 32px;\n",
              "    padding: 0;\n",
              "    width: 32px;\n",
              "  }\n",
              "\n",
              "  .colab-df-quickchart:hover {\n",
              "    background-color: var(--hover-bg-color);\n",
              "    box-shadow: 0 1px 2px rgba(60, 64, 67, 0.3), 0 1px 3px 1px rgba(60, 64, 67, 0.15);\n",
              "    fill: var(--button-hover-fill-color);\n",
              "  }\n",
              "\n",
              "  .colab-df-quickchart-complete:disabled,\n",
              "  .colab-df-quickchart-complete:disabled:hover {\n",
              "    background-color: var(--disabled-bg-color);\n",
              "    fill: var(--disabled-fill-color);\n",
              "    box-shadow: none;\n",
              "  }\n",
              "\n",
              "  .colab-df-spinner {\n",
              "    border: 2px solid var(--fill-color);\n",
              "    border-color: transparent;\n",
              "    border-bottom-color: var(--fill-color);\n",
              "    animation:\n",
              "      spin 1s steps(1) infinite;\n",
              "  }\n",
              "\n",
              "  @keyframes spin {\n",
              "    0% {\n",
              "      border-color: transparent;\n",
              "      border-bottom-color: var(--fill-color);\n",
              "      border-left-color: var(--fill-color);\n",
              "    }\n",
              "    20% {\n",
              "      border-color: transparent;\n",
              "      border-left-color: var(--fill-color);\n",
              "      border-top-color: var(--fill-color);\n",
              "    }\n",
              "    30% {\n",
              "      border-color: transparent;\n",
              "      border-left-color: var(--fill-color);\n",
              "      border-top-color: var(--fill-color);\n",
              "      border-right-color: var(--fill-color);\n",
              "    }\n",
              "    40% {\n",
              "      border-color: transparent;\n",
              "      border-right-color: var(--fill-color);\n",
              "      border-top-color: var(--fill-color);\n",
              "    }\n",
              "    60% {\n",
              "      border-color: transparent;\n",
              "      border-right-color: var(--fill-color);\n",
              "    }\n",
              "    80% {\n",
              "      border-color: transparent;\n",
              "      border-right-color: var(--fill-color);\n",
              "      border-bottom-color: var(--fill-color);\n",
              "    }\n",
              "    90% {\n",
              "      border-color: transparent;\n",
              "      border-bottom-color: var(--fill-color);\n",
              "    }\n",
              "  }\n",
              "</style>\n",
              "\n",
              "  <script>\n",
              "    async function quickchart(key) {\n",
              "      const quickchartButtonEl =\n",
              "        document.querySelector('#' + key + ' button');\n",
              "      quickchartButtonEl.disabled = true;  // To prevent multiple clicks.\n",
              "      quickchartButtonEl.classList.add('colab-df-spinner');\n",
              "      try {\n",
              "        const charts = await google.colab.kernel.invokeFunction(\n",
              "            'suggestCharts', [key], {});\n",
              "      } catch (error) {\n",
              "        console.error('Error during call to suggestCharts:', error);\n",
              "      }\n",
              "      quickchartButtonEl.classList.remove('colab-df-spinner');\n",
              "      quickchartButtonEl.classList.add('colab-df-quickchart-complete');\n",
              "    }\n",
              "    (() => {\n",
              "      let quickchartButtonEl =\n",
              "        document.querySelector('#df-5cb97eee-ad90-49c6-a582-cead63aefd10 button');\n",
              "      quickchartButtonEl.style.display =\n",
              "        google.colab.kernel.accessAllowed ? 'block' : 'none';\n",
              "    })();\n",
              "  </script>\n",
              "</div>\n",
              "\n",
              "  <div id=\"id_d9aead3d-e93e-4ff6-8e95-685077faaf9b\">\n",
              "    <style>\n",
              "      .colab-df-generate {\n",
              "        background-color: #E8F0FE;\n",
              "        border: none;\n",
              "        border-radius: 50%;\n",
              "        cursor: pointer;\n",
              "        display: none;\n",
              "        fill: #1967D2;\n",
              "        height: 32px;\n",
              "        padding: 0 0 0 0;\n",
              "        width: 32px;\n",
              "      }\n",
              "\n",
              "      .colab-df-generate:hover {\n",
              "        background-color: #E2EBFA;\n",
              "        box-shadow: 0px 1px 2px rgba(60, 64, 67, 0.3), 0px 1px 3px 1px rgba(60, 64, 67, 0.15);\n",
              "        fill: #174EA6;\n",
              "      }\n",
              "\n",
              "      [theme=dark] .colab-df-generate {\n",
              "        background-color: #3B4455;\n",
              "        fill: #D2E3FC;\n",
              "      }\n",
              "\n",
              "      [theme=dark] .colab-df-generate:hover {\n",
              "        background-color: #434B5C;\n",
              "        box-shadow: 0px 1px 3px 1px rgba(0, 0, 0, 0.15);\n",
              "        filter: drop-shadow(0px 1px 2px rgba(0, 0, 0, 0.3));\n",
              "        fill: #FFFFFF;\n",
              "      }\n",
              "    </style>\n",
              "    <button class=\"colab-df-generate\" onclick=\"generateWithVariable('X_lasso_df')\"\n",
              "            title=\"Generate code using this dataframe.\"\n",
              "            style=\"display:none;\">\n",
              "\n",
              "  <svg xmlns=\"http://www.w3.org/2000/svg\" height=\"24px\"viewBox=\"0 0 24 24\"\n",
              "       width=\"24px\">\n",
              "    <path d=\"M7,19H8.4L18.45,9,17,7.55,7,17.6ZM5,21V16.75L18.45,3.32a2,2,0,0,1,2.83,0l1.4,1.43a1.91,1.91,0,0,1,.58,1.4,1.91,1.91,0,0,1-.58,1.4L9.25,21ZM18.45,9,17,7.55Zm-12,3A5.31,5.31,0,0,0,4.9,8.1,5.31,5.31,0,0,0,1,6.5,5.31,5.31,0,0,0,4.9,4.9,5.31,5.31,0,0,0,6.5,1,5.31,5.31,0,0,0,8.1,4.9,5.31,5.31,0,0,0,12,6.5,5.46,5.46,0,0,0,6.5,12Z\"/>\n",
              "  </svg>\n",
              "    </button>\n",
              "    <script>\n",
              "      (() => {\n",
              "      const buttonEl =\n",
              "        document.querySelector('#id_d9aead3d-e93e-4ff6-8e95-685077faaf9b button.colab-df-generate');\n",
              "      buttonEl.style.display =\n",
              "        google.colab.kernel.accessAllowed ? 'block' : 'none';\n",
              "\n",
              "      buttonEl.onclick = () => {\n",
              "        google.colab.notebook.generateWithVariable('X_lasso_df');\n",
              "      }\n",
              "      })();\n",
              "    </script>\n",
              "  </div>\n",
              "\n",
              "    </div>\n",
              "  </div>\n"
            ],
            "application/vnd.google.colaboratory.intrinsic+json": {
              "type": "dataframe",
              "variable_name": "X_lasso_df",
              "summary": "{\n  \"name\": \"X_lasso_df\",\n  \"rows\": 1000,\n  \"fields\": [\n    {\n      \"column\": \"intercept\",\n      \"properties\": {\n        \"dtype\": \"number\",\n        \"std\": 0.0,\n        \"min\": 1.0,\n        \"max\": 1.0,\n        \"num_unique_values\": 1,\n        \"samples\": [\n          1.0\n        ],\n        \"semantic_type\": \"\",\n        \"description\": \"\"\n      }\n    },\n    {\n      \"column\": \"x\",\n      \"properties\": {\n        \"dtype\": \"number\",\n        \"std\": 1.0005003753127737,\n        \"min\": -2.8519135961005007,\n        \"max\": 3.7573008412558746,\n        \"num_unique_values\": 1000,\n        \"samples\": [\n          -0.2475439990991728\n        ],\n        \"semantic_type\": \"\",\n        \"description\": \"\"\n      }\n    },\n    {\n      \"column\": \"x_sq\",\n      \"properties\": {\n        \"dtype\": \"number\",\n        \"std\": 1.0005003753127741,\n        \"min\": -0.7610410523230754,\n        \"max\": 9.78063287087044,\n        \"num_unique_values\": 1000,\n        \"samples\": [\n          -0.7010224335655003\n        ],\n        \"semantic_type\": \"\",\n        \"description\": \"\"\n      }\n    }\n  ]\n}"
            }
          },
          "metadata": {},
          "execution_count": 11
        }
      ],
      "execution_count": 11
    },
    {
      "cell_type": "code",
      "source": [
        "# from sklearn.linear_model import Lasso, lasso_path\n",
        "# alphas, coefs, _ = lasso_path(X_lasso_df, y1000)\n",
        "\n",
        "# plt.figure(figsize=(10, 6))\n",
        "# for coef, feature in zip(coefs, X_lasso_df.columns):\n",
        "#     plt.plot(-np.log10(alphas), coef, label=feature)\n",
        "# plt.xlabel('-Log(alpha)')\n",
        "# plt.ylabel('Coefficients')\n",
        "# plt.title('Lasso Paths')\n",
        "# plt.legend()\n",
        "# plt.show()"
      ],
      "metadata": {
        "id": "WmWswCskqwzO"
      },
      "id": "WmWswCskqwzO",
      "execution_count": 12,
      "outputs": []
    },
    {
      "cell_type": "code",
      "id": "4cfec5de",
      "metadata": {
        "scrolled": false,
        "id": "4cfec5de",
        "colab": {
          "base_uri": "https://localhost:8080/",
          "height": 718
        },
        "outputId": "8b8687ae-1bd6-46ee-ed7e-2d63338d6d9d"
      },
      "source": [
        "# Exercise 1g -- Step 5 copy code here\n",
        "from itertools import cycle\n",
        "colors = ['#165aa7', '#cb495c', '#fec630', '#bb60d5', '#f47915', '#06ab54', '#002070', '#b27d12', '#007030']\n",
        "alphas = np.exp(np.linspace(-5, 1, 100))\n",
        "alphas, coefs_lasso, _ = linear_model.lasso_path(X1000_ext_scl, y1000,  alphas=alphas, max_iter=1000000)\n",
        "\n",
        "# plotting\n",
        "fig, ax = plt.subplots(figsize=(12, 8))\n",
        "color_cycle = cycle(colors)\n",
        "log_alphas = np.log10(alphas)\n",
        "for coef_l, c, name in zip(coefs_lasso, color_cycle, list(X_lasso_df.columns)):\n",
        "   ax.plot(log_alphas, coef_l, c=c)\n",
        "   ax.set_xlabel('Log10(alpha)')\n",
        "   ax.set_ylabel('Standardized Lasso coefficients')\n",
        "   ax.set_title('Lasso Path')\n",
        "   ax.axis('tight')\n",
        "   maxabs = np.max(np.abs(coef_l))\n",
        "   i = [idx for idx in range(len(coef_l)) if abs(coef_l[idx]) >= (0.9*maxabs)][0]\n",
        "   xnote = log_alphas[i]\n",
        "   ynote = coef_l[i]\n",
        "   ax.annotate(name, (xnote, ynote), color=c)\n",
        "\n",
        "\n",
        "plt.show()"
      ],
      "outputs": [
        {
          "output_type": "display_data",
          "data": {
            "text/plain": [
              "<Figure size 1200x800 with 1 Axes>"
            ],
            "image/png": "[encoded data removed]"
          },
          "metadata": {}
        }
      ],
      "execution_count": 13
    },
    {
      "cell_type": "markdown",
      "source": [
        "\n",
        "1. The lasso path of ` x_sq`  will likely show that its coefficient decreases more rapidly as alpha increases compared to the intercept and x term. This is predictable because in linear model 4 ` x_sq` provided a better fit and true DGP includes a quadratic term, meaning x_sq has an impact on y.\n",
        "\n",
        "2. A low value for alpha would be chosen because lower alphas minimize the bias , allowing the coefficients to be closer to their true values.Too High alphas may shrink the coefficients too much, making them further away from true values."
      ],
      "metadata": {
        "id": "OSMJH8RSreMk"
      },
      "id": "OSMJH8RSreMk"
    }
  ],
  "metadata": {
    "kernelspec": {
      "display_name": "Python 3 (ipykernel)",
      "language": "python",
      "name": "python3"
    },
    "language_info": {
      "codemirror_mode": {
        "name": "ipython",
        "version": 3
      },
      "file_extension": ".py",
      "mimetype": "text/x-python",
      "name": "python",
      "nbconvert_exporter": "python",
      "pygments_lexer": "ipython3",
      "version": "3.9.15"
    },
    "colab": {
      "provenance": []
    }
  },
  "nbformat": 4,
  "nbformat_minor": 5
}