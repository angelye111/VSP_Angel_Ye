{
  "cells": [
    {
      "cell_type": "markdown",
      "id": "fea96cfa",
      "metadata": {
        "id": "fea96cfa"
      },
      "source": [
        "# Lab Assignment 1 -- Fundamentals\n",
        "In this lab, you will complete a series of exercises related to the lecture material on coding fundamentals and collections.\n",
        "\n",
        "Since this is the first lab that involves coding, we will begin with an exercise related to Jupyter notebook functionality."
      ]
    },
    {
      "cell_type": "markdown",
      "id": "5b0e6098",
      "metadata": {
        "id": "5b0e6098"
      },
      "source": [
        "## Exercise 1 -- Jupyter Markdown Basics\n",
        "Jupyter notebooks allows cells to be interpreted as either code or Markdown. Markdown is a lightweight formatting language. In fact, what you're reading right now is written in Markdown. The syntax is very simple and a reference for common commands can be found [here](https://www.markdownguide.org/cheat-sheet/). Use this reference guide to complete the following steps:\n",
        "\n",
        "1. Create a cell below this one by using the insert drop down menu or by clicking on the left of this box (so the side bar turns blue) and tapping the <kbd>b</kbd> key.\n",
        "2. Make the cell a Markdown cell by clicking on it and using the drop down menu above.\n",
        "3. Using the reference guide, find out how to create the **smallest** heading  and use it give the cell you create a header of \"Solution to Exercise 1\" without the quotes.\n",
        "4. Using the reference guide, figure out how to make ordered and unordered lists. Using an unordered list, list three of the things you hope to learn from this class.\n",
        "5. Sometimes, we want to reference specific code or code objects in the text of Markdown. Markdown allows us to format such reference so that it appears in a gray box (e.g. `x=3`). Using the reference guide, figure out how to format code and format  x = 3, so it has a gray box around it in the cell you created."
      ]
    },
    {
      "cell_type": "markdown",
      "source": [
        "### Solution to Exercise 1\n",
        "\n",
        "- how to code with python\n",
        "- how to deal with dataset by coding\n",
        "- how to solve a problem through data\n",
        "\n",
        "`x=3`\n",
        "\n",
        "```\n",
        "x = 3 # This is code\n",
        "```"
      ],
      "metadata": {
        "id": "odOhAWxcz8t7"
      },
      "id": "odOhAWxcz8t7"
    },
    {
      "cell_type": "markdown",
      "id": "7835167d",
      "metadata": {
        "id": "7835167d"
      },
      "source": [
        "## Exercise 2 -- Basic Variable Assignment\n",
        "Complete the following steps in the cells below.\n",
        "1. Generate a variable called `x_flt` and set it equal to 3.0. Print its type.\n",
        "2. Generate a variable called `x_int` and set it equal to 3. Print its type.\n",
        "3. Generate a variable called  `x_str` and set it equal to \"3\". Print its type.\n",
        "4. Which of these two variables can you add together with the `+` operator? Why? Answer in the Markdown cell below."
      ]
    },
    {
      "cell_type": "code",
      "id": "8c80cd8e",
      "metadata": {
        "colab": {
          "base_uri": "https://localhost:8080/"
        },
        "id": "8c80cd8e",
        "outputId": "08b6182f-8c03-4fee-f982-3380f61256a0"
      },
      "source": [
        "# Exercise 2 Code\n",
        "x_fit = 3.0\n",
        "print(type(x_fit))\n",
        "\n",
        "x_int = 3\n",
        "print(type(x_int))\n",
        "\n",
        "x_str = \"3\"\n",
        "print(type(x_str))\n"
      ],
      "outputs": [
        {
          "output_type": "stream",
          "name": "stdout",
          "text": [
            "<class 'float'>\n",
            "<class 'int'>\n",
            "<class 'str'>\n"
          ]
        }
      ],
      "execution_count": null
    },
    {
      "cell_type": "markdown",
      "id": "70b8adf0",
      "metadata": {
        "id": "70b8adf0"
      },
      "source": [
        "### Response to 2.4\n",
        "We can add the float variable and integer variable with the `+` operator because the string variable is not applicable to the maths function."
      ]
    },
    {
      "cell_type": "markdown",
      "id": "9db99652",
      "metadata": {
        "id": "9db99652"
      },
      "source": [
        "## Exercise 3 -- Variable Reassignment\n",
        "Complete the following steps in the cells below.\n",
        "1. Assign `x` equal to `\"good\"`\n",
        "2. Assign `y` equal to `x`\n",
        "3. Reassign `x` to `\"bad\"`\n",
        "4. Use `print` to print `y`\n",
        "5. Does the print statement print \"good\" or a \"bad\"? Did changing `x` to \"bad\" affect anything? Why or why not? Answer in the Markdown cell below."
      ]
    },
    {
      "cell_type": "code",
      "id": "9c154552",
      "metadata": {
        "scrolled": true,
        "colab": {
          "base_uri": "https://localhost:8080/"
        },
        "id": "9c154552",
        "outputId": "dc66fe90-c8f2-454b-906c-f6602d51ae52"
      },
      "source": [
        "# Exercise 3 Code\n",
        "x = \"good\"\n",
        "y = x\n",
        "x = \"bad\"\n",
        "print(y)\n"
      ],
      "outputs": [
        {
          "output_type": "stream",
          "name": "stdout",
          "text": [
            "good\n"
          ]
        }
      ],
      "execution_count": null
    },
    {
      "cell_type": "markdown",
      "source": [
        "### Response to 3.5\n",
        "It prints \"good\" as changing `x ` affected nothing. Because the codes run in timeline and we don't reassign the variable `y`, which means the content stored in `y` is still \"good\"."
      ],
      "metadata": {
        "id": "sbzGiefV2wbQ"
      },
      "id": "sbzGiefV2wbQ"
    },
    {
      "cell_type": "markdown",
      "id": "4700d845",
      "metadata": {
        "id": "4700d845"
      },
      "source": [
        "## Exercise 4 -- Basic Arithmetic\n",
        "Generate the following variables with the corresponding value in the cell below:\n",
        "1. `x` equal to 20\n",
        "2. `y` equal to 10\n",
        "3. `z1` equal to the sum of `x` and `y`\n",
        "4. `z2` equal to `x` minus `y`\n",
        "5. `z3` equal to `x` times `y`\n",
        "6. `z4` equal to `x` divided by `y`\n",
        "\n",
        "Answer the following question in the Markdown Cell Below\n",
        "\n",
        "7. Use `type()` to deterimine which of these variables is a floating point number? Why is this the case?"
      ]
    },
    {
      "cell_type": "code",
      "id": "564b49ec",
      "metadata": {
        "id": "564b49ec"
      },
      "source": [
        "# Exercise 4 Code\n",
        "x = 20\n",
        "y = 10\n",
        "z1 = x + y\n",
        "z2 = x - y\n",
        "z3 = x * y\n",
        "z4 = x / y"
      ],
      "outputs": [],
      "execution_count": null
    },
    {
      "cell_type": "markdown",
      "id": "ac2063f9",
      "metadata": {
        "id": "ac2063f9"
      },
      "source": [
        "### Response to 4.7\n",
        "Only the result of `x` divided by `y` is a floating number because even though both `x` and `y` are integer variables, the result can be float variable."
      ]
    },
    {
      "metadata": {
        "colab": {
          "base_uri": "https://localhost:8080/"
        },
        "id": "26e05e804aba213c",
        "outputId": "2595a9ad-f8eb-4a3d-ab78-eda0d28fdbb2"
      },
      "cell_type": "code",
      "source": [
        "print(type(x))\n",
        "print(type(y))\n",
        "print(type(x + y))\n",
        "print(type(x - y))\n",
        "print(type(x * y))\n",
        "print(type(x / y))"
      ],
      "id": "26e05e804aba213c",
      "outputs": [
        {
          "output_type": "stream",
          "name": "stdout",
          "text": [
            "<class 'int'>\n",
            "<class 'int'>\n",
            "<class 'int'>\n",
            "<class 'int'>\n",
            "<class 'int'>\n",
            "<class 'float'>\n"
          ]
        }
      ],
      "execution_count": null
    },
    {
      "metadata": {
        "id": "2024ad69c823f131"
      },
      "cell_type": "markdown",
      "source": [
        "## Exercise 5 -- String Formatting\n",
        "Complete the following steps in the cell below:\n",
        "1. Define a list called `cities` that contains the names of three cities you would like to visit.\n",
        "2. Define a corresponding list called `countries` where an entry is the country of each of those three cities.\n",
        "3. Using these lists and f strings, print a sentence that says what country a city is in for each city in your list\n",
        "4. Now do the same thing again but use the `.format()` method instead of f strings."
      ],
      "id": "2024ad69c823f131"
    },
    {
      "metadata": {
        "colab": {
          "base_uri": "https://localhost:8080/"
        },
        "id": "4bb3c5643a0ee99e",
        "outputId": "299ff51a-111a-4361-f056-26fefdf80378"
      },
      "cell_type": "code",
      "source": [
        "# Exercise 5 Code\n",
        "cities_list = ['Toronto', 'New York', 'Paris']\n",
        "countries_list = ['Canada','United States','France']\n",
        "# This is the first way to define\n",
        "# city = cities_list[0]\n",
        "# country = countries_list[0]\n",
        "# string_1 = f\"{city} is in {country}.\"\n",
        "# print(string_1)\n",
        "\n",
        "# This is a easier way to define\n",
        "print(f\"{cities_list[0]} is in {countries_list[0]}.\")\n",
        "print(f\"{cities_list[1]} is in {countries_list[1]}.\")\n",
        "print(f\"{cities_list[2]} is in {countries_list[2]}.\")\n",
        "\n"
      ],
      "id": "4bb3c5643a0ee99e",
      "outputs": [
        {
          "output_type": "stream",
          "name": "stdout",
          "text": [
            "Toronto is in Canada.\n",
            "New York is in United States.\n",
            "Paris is in France.\n"
          ]
        }
      ],
      "execution_count": null
    },
    {
      "cell_type": "code",
      "source": [
        "# format method\n",
        "string = \"{city} is in {country}.\"\n",
        "print(string.format(city = cities_list[0], country = countries_list[0]))\n",
        "print(string.format(city = cities_list[1], country = countries_list[1]))\n",
        "print(string.format(city = cities_list[2], country = countries_list[2]))\n"
      ],
      "metadata": {
        "colab": {
          "base_uri": "https://localhost:8080/"
        },
        "id": "bvEiFZf38Mxv",
        "outputId": "ed0de1c0-2105-4458-a1ec-a33f6f1ee64b"
      },
      "id": "bvEiFZf38Mxv",
      "execution_count": null,
      "outputs": [
        {
          "output_type": "stream",
          "name": "stdout",
          "text": [
            "Toronto is in Canada.\n",
            "New York is in United States.\n",
            "Paris is in France.\n"
          ]
        }
      ]
    },
    {
      "metadata": {
        "id": "fce68f68177b1995"
      },
      "cell_type": "markdown",
      "source": [
        "## Exercise 6 -- String Concatenation\n",
        "Complete the following steps in the cell below:\n",
        "1. Assign `b` to be equal to \"b\"\n",
        "2. Assign `a` to be equal to \"a\"\n",
        "3. Assign `n` to be equal to \"n\"\n",
        "4. Using these variables, `+`, and `print`, print the the word \"banana\""
      ],
      "id": "fce68f68177b1995"
    },
    {
      "metadata": {
        "colab": {
          "base_uri": "https://localhost:8080/"
        },
        "id": "7cd33ad42612cc2",
        "outputId": "2c174d24-0c71-48ca-ebf6-24ace4396880"
      },
      "cell_type": "code",
      "source": [
        "# Exercise 6 Code\n",
        "b = \"b\"\n",
        "a = \"a\"\n",
        "n = \"n\"\n",
        "print(b + a + n + a + n +a)\n"
      ],
      "id": "7cd33ad42612cc2",
      "outputs": [
        {
          "output_type": "stream",
          "name": "stdout",
          "text": [
            "banana\n"
          ]
        }
      ],
      "execution_count": null
    },
    {
      "metadata": {
        "id": "293a4c9fc698f9d9"
      },
      "cell_type": "markdown",
      "source": [
        "## Exercise 7 -- Boolean Variable Keywords\n",
        "Assign `a`, `b`,`c`, and `d`, so that every print statement below is true.\n",
        "\n",
        "\n",
        "Afterwards, answer the following quesiton in the Markdown cell below:\n",
        "\n",
        "Is the configuration of `a`, `b`,`c`, and `d` that makes both statements true unique? Why or why not? If it isn't unique, add another print statement to the list to rule out other configurations?"
      ],
      "id": "293a4c9fc698f9d9"
    },
    {
      "metadata": {
        "id": "6a5495628c88bf25"
      },
      "cell_type": "code",
      "source": [
        "# Exercise 7 Code\n",
        "a = True\n",
        "b = False\n",
        "c = False\n",
        "d = False"
      ],
      "id": "6a5495628c88bf25",
      "outputs": [],
      "execution_count": null
    },
    {
      "metadata": {
        "colab": {
          "base_uri": "https://localhost:8080/"
        },
        "id": "5c6037cdfe69c6aa",
        "outputId": "72eb406c-8749-4948-d384-407bc9d7b57c"
      },
      "cell_type": "code",
      "source": [
        "# Uncomment the lines below when you have defined the variables to check your results\n",
        "print(((a and b) or (c and d)) == False)\n",
        "print(((a or c) and (b or d)) == False)\n",
        "print(a and (not b) and (not c) and (not d))"
      ],
      "id": "5c6037cdfe69c6aa",
      "outputs": [
        {
          "output_type": "stream",
          "name": "stdout",
          "text": [
            "True\n",
            "True\n",
            "True\n"
          ]
        }
      ],
      "execution_count": null
    },
    {
      "cell_type": "markdown",
      "source": [
        "To make the first statement true, \"`a and b`\" and \"`c and d`\" must be both false, which means at least one of the pairs should be false. And the second statement requires that at least one of \" `a or c`\"  and \" `b or d`\" must be false.But to make the last statement true, \"`not b`\" and \"`not c`\" and \"`not d`\" must all be true, which means `b`, `c` and `d` are all false, and a must be true at the meantime. So this is an unique configuration."
      ],
      "metadata": {
        "id": "p_KGrZZO-Gr9"
      },
      "id": "p_KGrZZO-Gr9"
    }
  ],
  "metadata": {
    "kernelspec": {
      "display_name": "Python 3 (ipykernel)",
      "language": "python",
      "name": "python3"
    },
    "language_info": {
      "codemirror_mode": {
        "name": "ipython",
        "version": 3
      },
      "file_extension": ".py",
      "mimetype": "text/x-python",
      "name": "python",
      "nbconvert_exporter": "python",
      "pygments_lexer": "ipython3",
      "version": "3.9.15"
    },
    "colab": {
      "provenance": []
    }
  },
  "nbformat": 4,
  "nbformat_minor": 5
}